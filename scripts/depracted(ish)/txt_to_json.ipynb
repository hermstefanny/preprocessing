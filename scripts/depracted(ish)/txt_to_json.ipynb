{
 "cells": [
  {
   "cell_type": "code",
   "execution_count": 38,
   "metadata": {},
   "outputs": [],
   "source": [
    "import json\n",
    "from pathlib import Path"
   ]
  },
  {
   "cell_type": "code",
   "execution_count": 41,
   "metadata": {},
   "outputs": [],
   "source": [
    "text_file = Path(r\"C:\\Users\\herms\\Desktop\\Civic_Tech_Research_Project\\PreliminarWork\\preprocessing\\work_on_minutes\\acta_26_abril_2019\\summary_26_04_19\\response_summary_TOTAL_vers005.txt\")"
   ]
  },
  {
   "cell_type": "code",
   "execution_count": 62,
   "metadata": {},
   "outputs": [
    {
     "name": "stdout",
     "output_type": "stream",
     "text": [
      "Resumen de la Minuta de Reunión - Concejo Metropolitano de Quito\n",
      "1111111111111\n"
     ]
    },
    {
     "ename": "KeyError",
     "evalue": "None",
     "output_type": "error",
     "traceback": [
      "\u001b[1;31m---------------------------------------------------------------------------\u001b[0m",
      "\u001b[1;31mKeyError\u001b[0m                                  Traceback (most recent call last)",
      "Cell \u001b[1;32mIn[62], line 38\u001b[0m\n\u001b[0;32m     33\u001b[0m         \u001b[38;5;28;01mraise\u001b[39;00m \u001b[38;5;167;01mTypeError\u001b[39;00m(\u001b[38;5;124mf\u001b[39m\u001b[38;5;124m\"\u001b[39m\u001b[38;5;124mExpected a dictionary for section \u001b[39m\u001b[38;5;124m'\u001b[39m\u001b[38;5;132;01m{\u001b[39;00mcurrent_section\u001b[38;5;132;01m}\u001b[39;00m\u001b[38;5;124m'\u001b[39m\u001b[38;5;124m but found a string.\u001b[39m\u001b[38;5;124m\"\u001b[39m)\n\u001b[0;32m     36\u001b[0m \u001b[38;5;28;01melse\u001b[39;00m:\n\u001b[0;32m     37\u001b[0m     \u001b[38;5;66;03m# Make sure current_section is a dictionary before adding text\u001b[39;00m\n\u001b[1;32m---> 38\u001b[0m     \u001b[38;5;28;01mif\u001b[39;00m \u001b[38;5;28misinstance\u001b[39m(\u001b[43mjson_output\u001b[49m\u001b[43m[\u001b[49m\u001b[43mcurrent_section\u001b[49m\u001b[43m]\u001b[49m, \u001b[38;5;28mdict\u001b[39m):\n\u001b[0;32m     39\u001b[0m         \u001b[38;5;66;03m# Assign text directly under the section if no subsection exists\u001b[39;00m\n\u001b[0;32m     40\u001b[0m         json_output[current_section] \u001b[38;5;241m=\u001b[39m json_output[current_section]\u001b[38;5;241m.\u001b[39mget(\u001b[38;5;124m\"\u001b[39m\u001b[38;5;124mtext\u001b[39m\u001b[38;5;124m\"\u001b[39m, \u001b[38;5;124m\"\u001b[39m\u001b[38;5;124m\"\u001b[39m) \u001b[38;5;241m+\u001b[39m line \u001b[38;5;241m+\u001b[39m \u001b[38;5;124m\"\u001b[39m\u001b[38;5;124m \u001b[39m\u001b[38;5;124m\"\u001b[39m\n\u001b[0;32m     41\u001b[0m     \u001b[38;5;28;01melse\u001b[39;00m:\n",
      "\u001b[1;31mKeyError\u001b[0m: None"
     ]
    }
   ],
   "source": [
    "json_output = {}\n",
    "current_section = None\n",
    "current_subsection = None\n",
    "\n",
    "with open(text_file, 'r', encoding=\"utf-8\") as file:\n",
    "    for line in file:\n",
    "        line = line.strip()\n",
    "             \n",
    "        if line.startswith('# '):\n",
    "            print(line[2:])\n",
    "            json_output[\"record_title\"] = line[2:].strip()\n",
    "            current_section = None\n",
    "            current_subsection = None\n",
    "            print(\"1111111111111\")\n",
    "\n",
    "        elif line.startswith('## '):\n",
    "            print(line[3:])\n",
    "            current_section = line[3:].strip()\n",
    "            json_output[current_section] = {}\n",
    "            json_output[current_section] = {}  # Initialize section as an empty dict\n",
    "            current_subsection = None \n",
    "            print(\"22222222222\")\n",
    "\n",
    "        elif line.startswith('### '):\n",
    "            print(line[4:])\n",
    "            #json_output[\"subsection_title\"] = line[4:].strip()\n",
    "            #print(3333333333333)\n",
    "            current_subsection = line[4:].strip()\n",
    "            if isinstance(json_output[current_section], dict):\n",
    "                # Initialize subsection as an empty string (or dict if needed)\n",
    "                json_output[current_section][current_subsection] = \"\"\n",
    "            else:\n",
    "                raise TypeError(f\"Expected a dictionary for section '{current_section}' but found a string.\")\n",
    "\n",
    "         \n",
    "        else:\n",
    "            # Make sure current_section is a dictionary before adding text\n",
    "            if isinstance(json_output[current_section], dict):\n",
    "                # Assign text directly under the section if no subsection exists\n",
    "                json_output[current_section] = json_output[current_section].get(\"text\", \"\") + line + \" \"\n",
    "            else:\n",
    "                raise TypeError(f\"Expected a dictionary for section '{current_section}' but found a string.\")"
   ]
  },
  {
   "cell_type": "code",
   "execution_count": 58,
   "metadata": {},
   "outputs": [
    {
     "name": "stdout",
     "output_type": "stream",
     "text": [
      "{'record_title': 'Resumen de la Minuta de Reunión - Concejo Metropolitano de Quito', 'Asuntos tratados': ' '}\n"
     ]
    }
   ],
   "source": [
    "print(json_output)"
   ]
  },
  {
   "cell_type": "code",
   "execution_count": 21,
   "metadata": {},
   "outputs": [],
   "source": [
    "\n",
    "def text_to_json(text_file):\n",
    "    json_output = {}\n",
    "    current_section = None\n",
    "    current_subsection = None\n",
    "    \n",
    "    with open(text_file, 'r',  encoding=\"utf-8\") as file:\n",
    "        for line in file:\n",
    "            line = line.strip()\n",
    "            if line.startswith('*'):\n",
    "                print(line[2:])\n",
    "                json_output[\"title\"] = line[1:].strip()\n",
    "            elif line.startswith('**'):\n",
    "                current_section = line[2:].strip()\n",
    "                json_output[current_section] = {}\n",
    "            elif line.startswith('***'):\n",
    "                current_subsection = line[3:].strip()\n",
    "                json_output[current_section][current_subsection] = \"\"\n",
    "            else:\n",
    "                if current_subsection:\n",
    "                    json_output[current_section][current_subsection] += line + \" \"\n",
    "                elif current_section:\n",
    "                    json_output[current_section] += line + \" \"\n",
    "    \n",
    "    return json_output"
   ]
  },
  {
   "cell_type": "code",
   "execution_count": 23,
   "metadata": {},
   "outputs": [
    {
     "name": "stdout",
     "output_type": "stream",
     "text": [
      "Minuta de la Sesión Extraordinaria del Concejo Metropolitano de Quito - Acta No. 2019 - 259 - E**\n",
      "Fecha:** 26 de abril de 2019\n",
      "Hora de inicio:** 14:50\n",
      "Asistentes:** 13 concejales, incluido el Alcalde Metropolitano, Dr. Mauricio Rodas Espinel.\n",
      "Hora de cierre:** 16:02\n",
      "Nota:** Se enfatiza la importancia de la participación ciudadana y la transparencia en la gestión pública. La próxima reunión se centrará en la comparecencia del gerente de EMGIRS y otros asuntos pendientes.\n",
      "Markdown converted to JSON successfully!\n"
     ]
    }
   ],
   "source": [
    "\n",
    "text_file = r\"C:\\Users\\herms\\Desktop\\Civic_Tech_Research_Project\\PreliminarWork\\preprocessing\\work_on_minutes\\acta_26_abril_2019\\summary_26_04_19\\response_summary_TOTAL_vers002.txt\"\n",
    "\n",
    "json_data = markdown_to_json(text_file)\n",
    "\n",
    "with open('output.json', 'w',  encoding=\"utf-8\") as json_file:\n",
    "    json.dump(json_data, json_file, indent=4)\n",
    "\n",
    "print(\"Markdown converted to JSON successfully!\")"
   ]
  },
  {
   "cell_type": "code",
   "execution_count": 70,
   "metadata": {},
   "outputs": [
    {
     "name": "stdout",
     "output_type": "stream",
     "text": [
      "Found Metadata: Fecha : 26 de abril de 2019\n",
      "Found Metadata: Hora de inicio : 14:50\n",
      "Found Metadata: Asistentes : 13 concejales, incluido el Alcalde Metropolitano, Dr. Mauricio Rodas Espinel.\n"
     ]
    },
    {
     "ename": "KeyError",
     "evalue": "'Subsection found without a preceding section. Please check your Markdown structure.'",
     "output_type": "error",
     "traceback": [
      "\u001b[1;31m---------------------------------------------------------------------------\u001b[0m",
      "\u001b[1;31mKeyError\u001b[0m                                  Traceback (most recent call last)",
      "Cell \u001b[1;32mIn[70], line 57\u001b[0m\n\u001b[0;32m     55\u001b[0m \u001b[38;5;66;03m# Example Markdown input file\u001b[39;00m\n\u001b[0;32m     56\u001b[0m markdown_file \u001b[38;5;241m=\u001b[39m \u001b[38;5;124mr\u001b[39m\u001b[38;5;124m'\u001b[39m\u001b[38;5;124mC:\u001b[39m\u001b[38;5;130;01m\\\\\u001b[39;00m\u001b[38;5;124mUsers\u001b[39m\u001b[38;5;130;01m\\\\\u001b[39;00m\u001b[38;5;124mherms\u001b[39m\u001b[38;5;130;01m\\\\\u001b[39;00m\u001b[38;5;124mDesktop\u001b[39m\u001b[38;5;130;01m\\\\\u001b[39;00m\u001b[38;5;124mCivic_Tech_Research_Project\u001b[39m\u001b[38;5;130;01m\\\\\u001b[39;00m\u001b[38;5;124mPreliminarWork\u001b[39m\u001b[38;5;130;01m\\\\\u001b[39;00m\u001b[38;5;124mpreprocessing\u001b[39m\u001b[38;5;130;01m\\\\\u001b[39;00m\u001b[38;5;124mwork_on_minutes\u001b[39m\u001b[38;5;130;01m\\\\\u001b[39;00m\u001b[38;5;124macta_26_abril_2019\u001b[39m\u001b[38;5;130;01m\\\\\u001b[39;00m\u001b[38;5;124msummary_26_04_19\u001b[39m\u001b[38;5;130;01m\\\\\u001b[39;00m\u001b[38;5;124mresponse_summary_TOTAL_vers002.txt\u001b[39m\u001b[38;5;124m'\u001b[39m\n\u001b[1;32m---> 57\u001b[0m json_data \u001b[38;5;241m=\u001b[39m \u001b[43mparse_markdown_to_json\u001b[49m\u001b[43m(\u001b[49m\u001b[43mmarkdown_file\u001b[49m\u001b[43m)\u001b[49m\n\u001b[0;32m     59\u001b[0m \u001b[38;5;66;03m# Save the output to a JSON file\u001b[39;00m\n\u001b[0;32m     60\u001b[0m \u001b[38;5;28;01mwith\u001b[39;00m \u001b[38;5;28mopen\u001b[39m(\u001b[38;5;124m'\u001b[39m\u001b[38;5;124moutput.json\u001b[39m\u001b[38;5;124m'\u001b[39m, \u001b[38;5;124m'\u001b[39m\u001b[38;5;124mw\u001b[39m\u001b[38;5;124m'\u001b[39m) \u001b[38;5;28;01mas\u001b[39;00m json_file:\n",
      "Cell \u001b[1;32mIn[70], line 33\u001b[0m, in \u001b[0;36mparse_markdown_to_json\u001b[1;34m(markdown_file)\u001b[0m\n\u001b[0;32m     31\u001b[0m \u001b[38;5;28;01melif\u001b[39;00m line\u001b[38;5;241m.\u001b[39mstartswith(\u001b[38;5;124m'\u001b[39m\u001b[38;5;124m### \u001b[39m\u001b[38;5;124m'\u001b[39m):  \u001b[38;5;66;03m# Subsection or numbered list\u001b[39;00m\n\u001b[0;32m     32\u001b[0m     \u001b[38;5;28;01mif\u001b[39;00m current_section \u001b[38;5;129;01mis\u001b[39;00m \u001b[38;5;28;01mNone\u001b[39;00m:\n\u001b[1;32m---> 33\u001b[0m         \u001b[38;5;28;01mraise\u001b[39;00m \u001b[38;5;167;01mKeyError\u001b[39;00m(\u001b[38;5;124m\"\u001b[39m\u001b[38;5;124mSubsection found without a preceding section. Please check your Markdown structure.\u001b[39m\u001b[38;5;124m\"\u001b[39m)\n\u001b[0;32m     35\u001b[0m     current_subsection \u001b[38;5;241m=\u001b[39m line[\u001b[38;5;241m4\u001b[39m:]\u001b[38;5;241m.\u001b[39mstrip()\n\u001b[0;32m     36\u001b[0m     \u001b[38;5;28;01mif\u001b[39;00m \u001b[38;5;28misinstance\u001b[39m(json_output[current_section], \u001b[38;5;28mdict\u001b[39m):\n",
      "\u001b[1;31mKeyError\u001b[0m: 'Subsection found without a preceding section. Please check your Markdown structure.'"
     ]
    }
   ],
   "source": [
    "import json\n",
    "\n",
    "def parse_markdown_to_json(markdown_file):\n",
    "    json_output = {}\n",
    "    current_section = None\n",
    "    current_subsection = None\n",
    "    metadata_section = {}\n",
    "\n",
    "    with open(markdown_file, 'r') as file:\n",
    "        for line in file:\n",
    "            line = line.strip()\n",
    "\n",
    "            if line.startswith('# '):  # Main title\n",
    "                json_output[\"title\"] = line[2:].strip()\n",
    "                current_section = None\n",
    "                current_subsection = None\n",
    "                print(f\"Found Title: {json_output['title']}\")\n",
    "\n",
    "            elif line.startswith('**') and ':' in line:  # Handle metadata\n",
    "                key, value = line.replace('**', '').split(':', 1)\n",
    "                metadata_section[key.strip()] = value.strip()\n",
    "                json_output[\"metadata\"] = metadata_section\n",
    "                print(f\"Found Metadata: {key.strip()} : {value.strip()}\")\n",
    "\n",
    "            elif line.startswith('## '):  # Section level\n",
    "                current_section = line[3:].strip()\n",
    "                json_output[current_section] = {}\n",
    "                current_subsection = None\n",
    "                print(f\"Found Section: {current_section}\")\n",
    "\n",
    "            elif line.startswith('### '):  # Subsection or numbered list\n",
    "                if current_section is None:\n",
    "                    raise KeyError(\"Subsection found without a preceding section. Please check your Markdown structure.\")\n",
    "                \n",
    "                current_subsection = line[4:].strip()\n",
    "                if isinstance(json_output[current_section], dict):\n",
    "                    json_output[current_section][current_subsection] = \"\"\n",
    "                    print(f\"Found Subsection: {current_subsection}\")\n",
    "                else:\n",
    "                    raise TypeError(f\"Expected a dictionary for section '{current_section}' but found a string.\")\n",
    "\n",
    "            else:  # Text content under section or subsection\n",
    "                if current_subsection:\n",
    "                    json_output[current_section][current_subsection] += line + \" \"\n",
    "                    print(f\"Adding text to Subsection '{current_subsection}': {line}\")\n",
    "                elif current_section:\n",
    "                    if isinstance(json_output[current_section], dict):\n",
    "                        json_output[current_section] = json_output[current_section].get(\"text\", \"\") + line + \" \"\n",
    "                        print(f\"Adding text to Section '{current_section}': {line}\")\n",
    "                    else:\n",
    "                        raise TypeError(f\"Expected a dictionary for section '{current_section}' but found a string.\")\n",
    "\n",
    "    return json_output\n",
    "\n",
    "# Example Markdown input file\n",
    "markdown_file = r'C:\\\\Users\\\\herms\\\\Desktop\\\\Civic_Tech_Research_Project\\\\PreliminarWork\\\\preprocessing\\\\work_on_minutes\\\\acta_26_abril_2019\\\\summary_26_04_19\\\\response_summary_TOTAL_vers002.txt'\n",
    "json_data = parse_markdown_to_json(markdown_file)\n",
    "\n",
    "# Save the output to a JSON file\n",
    "with open('output.json', 'w') as json_file:\n",
    "    json.dump(json_data, json_file, indent=4)\n",
    "\n",
    "print(\"Markdown converted to JSON successfully!\")\n",
    "\n",
    "\n"
   ]
  }
 ],
 "metadata": {
  "kernelspec": {
   "display_name": "venv",
   "language": "python",
   "name": "python3"
  },
  "language_info": {
   "codemirror_mode": {
    "name": "ipython",
    "version": 3
   },
   "file_extension": ".py",
   "mimetype": "text/x-python",
   "name": "python",
   "nbconvert_exporter": "python",
   "pygments_lexer": "ipython3",
   "version": "3.10.4"
  }
 },
 "nbformat": 4,
 "nbformat_minor": 2
}
