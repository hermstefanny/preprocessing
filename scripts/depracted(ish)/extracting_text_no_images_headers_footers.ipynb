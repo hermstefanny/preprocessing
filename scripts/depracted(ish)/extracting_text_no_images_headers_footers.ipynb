{
 "cells": [
  {
   "cell_type": "code",
   "execution_count": null,
   "metadata": {},
   "outputs": [],
   "source": [
    "import fitz  # PyMuPDF\n",
    "import os"
   ]
  },
  {
   "cell_type": "markdown",
   "metadata": {},
   "source": [
    "## Extracting"
   ]
  },
  {
   "cell_type": "code",
   "execution_count": null,
   "metadata": {},
   "outputs": [],
   "source": [
    "# Specify the directory for saving images and text\n",
    "image_dir = \"extracted_images\"\n",
    "text_dir = \"text_extracted\"\n",
    "os.makedirs(image_dir, exist_ok=True)\n",
    "os.makedirs(text_dir, exist_ok=True)"
   ]
  },
  {
   "cell_type": "code",
   "execution_count": null,
   "metadata": {},
   "outputs": [],
   "source": [
    "\n",
    "# Open the PDF document\n",
    "test_doc = fitz.open(r\"C:\\Users\\herms\\Desktop\\Civic_Tech_Research_Project\\PreliminarWork\\PreliminarData\\SESIONES CONCEJO QUITO\\2019\\Abril\\ACTA-E-2019-02-04.pdf\")"
   ]
  },
  {
   "cell_type": "code",
   "execution_count": null,
   "metadata": {},
   "outputs": [],
   "source": [
    "# Define thresholds (adjust these based on your document)\n",
    "header_threshold = 0.060  # Top 10% of the page height\n",
    "footer_threshold = 0.9  # Bottom 10% of the page height"
   ]
  },
  {
   "cell_type": "code",
   "execution_count": null,
   "metadata": {},
   "outputs": [],
   "source": [
    "\n",
    "# Initialize a variable to hold the extracted text\n",
    "extracted_text_block = [ ]\n",
    "text_string = \"\"\n",
    "\n",
    "\n",
    "# Loop through each page\n",
    "for page_num in range(len(test_doc)):\n",
    "    page = test_doc.load_page(page_num)  # Load the page\n",
    "    text_block = page.get_text('blocks')  # Extract text from the page as blocks\n",
    "    page_height = page.rect.height  # Get the height of the page\n",
    "\n",
    "    for block in text_block:\n",
    "            # Get the vertical position of the block (block[1] is the top y-coordinate, block[3] is the bottom y-coordinate)\n",
    "            block_top = block[1]\n",
    "            block_bottom = block[3]\n",
    "\n",
    "            # Filter out blocks that are within the header or footer region\n",
    "            if (block_top > page_height * header_threshold) and (block_bottom < page_height * footer_threshold):\n",
    "                text = block[4]  # The text content is in the 5th element of the block tuple\n",
    "                text_string += text + \"\\n\" # Write the block text\n",
    "\n",
    "    image_list = page.get_images(full=True)\n",
    "\n",
    "    for img_index, img in enumerate(image_list):\n",
    "        xref = img[0]\n",
    "        base_image = test_doc.extract_image(xref)\n",
    "        image_bytes = base_image[\"image\"]\n",
    "        image_ext = base_image[\"ext\"]\n",
    "        \n",
    "        # Save image to the specified directory\n",
    "        image_filename = f\"image_page_{page_num + 1}_{img_index + 1}.{image_ext}\"\n",
    "        image_path = os.path.join(image_dir, image_filename)\n",
    "        \n",
    "        with open(image_path, \"wb\") as image_file:\n",
    "            image_file.write(image_bytes)\n",
    "\n",
    "        print(f\"Image saved to {image_path}\")\n",
    "\n",
    "print(\"Text and images have been successfully extracted.\")\n"
   ]
  }
 ],
 "metadata": {
  "language_info": {
   "name": "python"
  }
 },
 "nbformat": 4,
 "nbformat_minor": 2
}
