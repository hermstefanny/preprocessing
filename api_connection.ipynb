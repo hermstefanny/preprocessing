{
 "cells": [
  {
   "cell_type": "code",
   "execution_count": 1,
   "metadata": {},
   "outputs": [],
   "source": [
    "# import libraries\n",
    "\n",
    "from openai import OpenAI\n",
    "import os\n",
    "from dotenv import load_dotenv\n"
   ]
  },
  {
   "cell_type": "code",
   "execution_count": 2,
   "metadata": {},
   "outputs": [
    {
     "name": "stdout",
     "output_type": "stream",
     "text": [
      "Number of tokens : 22264\n",
      "\n",
      " ++++++++++++++++++++++++++++++++++++++++++++++++++++++++++++++++++++++++++++++++++++++++++++++\n"
     ]
    }
   ],
   "source": [
    "from pathlib import Path\n",
    "\n",
    "import tiktoken\n",
    "encoding = tiktoken.encoding_for_model(\"gpt-4o-mini\") \n",
    "\n",
    "##change everytime\n",
    "extracted_raw_file = Path(r\"work_on_minutes\\acta_07_noviembre_2023\\extracted_text_11_07_23_clean_vers_001.txt\")\n",
    "\n",
    "text_content = []\n",
    "\n",
    "with open(extracted_raw_file, \"r\", encoding=\"utf-8\") as text_file:\n",
    "    text_full = text_file.read()\n",
    "    \n",
    "    # Count the number of tokens    \n",
    "    text_tokens = encoding.encode(text_full)\n",
    "    num_tokens = len(text_tokens)\n",
    "    print(f\"Number of tokens : {num_tokens}\")\n",
    "\n",
    "    text_content.append(text_full) #save for future processing\n",
    "     \n",
    "    print(\"\\n ++++++++++++++++++++++++++++++++++++++++++++++++++++++++++++++++++++++++++++++++++++++++++++++\")  \n",
    "        "
   ]
  },
  {
   "cell_type": "code",
   "execution_count": null,
   "metadata": {},
   "outputs": [],
   "source": [
    "## max input tokens 128K \n",
    "# if needed, for a long document, it is going to be necessary to break the document in pieces and make a recursive summarization "
   ]
  },
  {
   "cell_type": "markdown",
   "metadata": {},
   "source": [
    "### Prompt Engineering 1"
   ]
  },
  {
   "cell_type": "code",
   "execution_count": null,
   "metadata": {},
   "outputs": [],
   "source": [
    "#token encoding for the instruction\n",
    "\n",
    "# Load the encoding for the specific model you're using\n",
    "encoding = tiktoken.encoding_for_model(\"gpt-4o-mini\")    \n",
    "\n",
    "# Instruction text\n",
    "instruction = f\"Has un resumen de una minuta de reunión de un gobierno local.\\\n",
    "La intención de este ejercicio es proveer al ciudadano común con información relevante sobre el desempeño de su gobierno local. \\\n",
    "Instrucciones especificas: \\\n",
    "- Enfatiza los problemas, peticiones y soluciones o acuerdos que se llegan \\\n",
    "- Indica los nombres de las personas que participan cuando sea necesario.\\\n",
    "- Indica datos concretos \\\n",
    "- No emitas juicios de valor, manten neutralidad\\\n",
    "- Identifica fechas\\\n",
    "- Identifica los temas que se trataron.\\\n",
    "- Verifica con cuidado al final cuantas personas asistieron a la sesion\\\n",
    "\"\n",
    "\n",
    "# Encode the text\n",
    "instruction_tokens = encoding.encode(instruction)\n",
    "\n",
    "# Count the number of tokens\n",
    "num_tokens = len(instruction_tokens)\n",
    "\n",
    "print(f\"Number of tokens: {num_tokens}\")\n"
   ]
  },
  {
   "cell_type": "markdown",
   "metadata": {},
   "source": [
    "### Prompt Engineering 2"
   ]
  },
  {
   "cell_type": "code",
   "execution_count": 3,
   "metadata": {},
   "outputs": [
    {
     "name": "stdout",
     "output_type": "stream",
     "text": [
      "Number of tokens: 198\n"
     ]
    }
   ],
   "source": [
    "#token encoding for the instruction\n",
    "\n",
    "# Load the encoding for the specific model you're using\n",
    "encoding = tiktoken.encoding_for_model(\"gpt-4o-mini\")    \n",
    "\n",
    "# Instruction text\n",
    "instruction = \"\"\"Has un resumen de una minuta de reunión de un gobierno local con las siguientes instrucciones:\n",
    "    - Identifica los principales temas que se hablaron en la sesion.\n",
    "    - Enfatiza los problemas, peticiones y soluciones o acuerdos que se llegan, indicando los nombres de las personas que participan cuando sea necesario.\n",
    "    - Prioriza datos concretos y no emitas juicios de valor\n",
    "    - Verifica con cuidado cuantas personas asistieron a la sesion\n",
    "    - Envia la informacion con la siguiente estructura:\n",
    "     \"date\" : \"dd-mm-yy\", \"document_id\" : \"acta_numero_del_acta\", \"text\" : { \n",
    "    \" ## **Nombre del acta:**  \n",
    "      ## **Fecha:**  \n",
    "      ## **Temas tratados:**  \n",
    "      ## **Problemas:** \n",
    "      ## **Peticiones:** \n",
    "      ## **Soluciones o acuerdos:**  \n",
    "      ## **Asistentes:** \" \n",
    "    } \n",
    "    \"\"\"\n",
    "\n",
    "\n",
    "# Encode the text\n",
    "instruction_tokens = encoding.encode(instruction)\n",
    "\n",
    "# Count the number of tokens\n",
    "num_tokens = len(instruction_tokens)\n",
    "\n",
    "print(f\"Number of tokens: {num_tokens}\")\n"
   ]
  },
  {
   "cell_type": "code",
   "execution_count": 4,
   "metadata": {},
   "outputs": [],
   "source": [
    "# loading API key\n",
    "load_dotenv()\n",
    "key_ct = os.environ[\"ct_api_key\"]"
   ]
  },
  {
   "cell_type": "code",
   "execution_count": 5,
   "metadata": {},
   "outputs": [],
   "source": [
    "\n",
    "client = OpenAI(api_key = key_ct)\n",
    "\n",
    "response = client.chat.completions.create(\n",
    "    model = \"gpt-4o-mini\",\n",
    "    messages = [\n",
    "        {\"role\": \"system\", \"content\" : instruction},\n",
    "        {\"role\":\"user\", \"content\":text_content[0]},\n",
    "    ],\n",
    "    temperature = 0.70,\n",
    "    max_tokens = 1200,\n",
    ")\n"
   ]
  },
  {
   "cell_type": "code",
   "execution_count": 6,
   "metadata": {},
   "outputs": [
    {
     "name": "stdout",
     "output_type": "stream",
     "text": [
      "```json\n",
      "{\n",
      "  \"date\": \"07-11-23\",\n",
      "  \"document_id\": \"acta_030\",\n",
      "  \"text\": {\n",
      "    \"## **Nombre del acta:**\": \"ACTA DE LA SESIÓN No. 030 ORDINARIA DEL CONCEJO METROPOLITANO DE QUITO, DE 07 DE NOVIEMBRE DE 2023\",\n",
      "    \"## **Fecha:**\": \"07 de noviembre de 2023\",\n",
      "    \"## **Temas tratados:**\": [\n",
      "      \"Seguimiento de procesos judiciales relacionados con la inseguridad en Quito.\",\n",
      "      \"Cambio de categoría de un bien municipal y donación a SENESCYT para infraestructura educativa.\",\n",
      "      \"Primer debate del Proyecto de Ordenanza Metropolitana del Fomento del Comercio Justo y Consumo Responsable.\",\n",
      "      \"Segundo debate de la Ordenanza para la Regularización Vial de calles en Conocoto.\"\n",
      "    ],\n",
      "    \"## **Problemas:**\": [\n",
      "      \"Inseguridad en la ciudad, reflejada en eventos de terrorismo.\",\n",
      "      \"Falta de infraestructura educativa en el sur de Quito.\",\n",
      "      \"Necesidad de un marco regulatorio para el comercio justo y responsable.\"\n",
      "    ],\n",
      "    \"## **Peticiones:**\": [\n",
      "      \"Que se informe sobre el seguimiento de los casos de inseguridad.\",\n",
      "      \"Considerar un plazo para la ejecución del proyecto de infraestructura educativa.\",\n",
      "      \"Inclusión de observaciones sobre la propuesta de ordenanza de comercio justo.\"\n",
      "    ],\n",
      "    \"## **Soluciones o acuerdos:**\": [\n",
      "      \"Aprobación del seguimiento a procesos judiciales por el Procurador Metropolitano.\",\n",
      "      \"Aprobación del cambio de categoría del predio para la donación a SENESCYT.\",\n",
      "      \"Se acordó trabajar en el proyecto de ordenanza de comercio justo en comisiones conjuntas.\",\n",
      "      \"El proyecto de regularización vial regresará a la Comisión de Uso de Suelo para ser fortalecido.\"\n",
      "    ],\n",
      "    \"## **Asistentes:**\": [\n",
      "      \"Pabel Muñoz López (Alcalde)\",\n",
      "      \"Fernanda Racines Corredores (Vicealcaldesa)\",\n",
      "      \"Andrés Campaña Remache\",\n",
      "      \"Estefanía Grunauer Reinoso\",\n",
      "      \"Bernardo Abad Merchán\",\n",
      "      \"Blanca Paucar Paucar\",\n",
      "      \"Fidel Chamba Vozmediano\",\n",
      "      \"Diana Cruz Murillo\",\n",
      "      \"Héctor Cueva Cueva\",\n",
      "      \"Gabriel Noroña Díaz\",\n",
      "      \"Emilio Uzcátegui Jiménez\",\n",
      "      \"Adrián Ibarra González\",\n",
      "      \"Juan Báez Bulla\",\n",
      "      \"Wilson Merino Rivadeneira\",\n",
      "      \"Robin Armijos Coloma\",\n",
      "      \"Sagrario de Jesús Angulo (Silla Vacía)\",\n",
      "      \"Cristina López Gómez de la Torre\",\n",
      "      \"Sandra Hidalgo Espinel\",\n",
      "      \"Joselyn Mayorga Salazar\",\n",
      "      \"Michael Aulestia Salazar\",\n",
      "      \"Darío Cahueñas Apunte\",\n",
      "      \"Ángel Vega\"\n",
      "    ]\n",
      "  }\n",
      "}\n",
      "```\n"
     ]
    }
   ],
   "source": [
    "#change everytime\n",
    "response_summary_TOTAL_vers002 = response.choices[0].message.content\n",
    "print(response_summary_TOTAL_vers002)   "
   ]
  },
  {
   "cell_type": "markdown",
   "metadata": {},
   "source": [
    "### Formatting"
   ]
  },
  {
   "cell_type": "code",
   "execution_count": 7,
   "metadata": {},
   "outputs": [
    {
     "name": "stdout",
     "output_type": "stream",
     "text": [
      "{\n",
      "  \"date\": \"07-11-23\",\n",
      "  \"document_id\": \"acta_030\",\n",
      "  \"text\": {\n",
      "    \"## **Nombre del acta:**\": \"ACTA DE LA SESIÓN No. 030 ORDINARIA DEL CONCEJO METROPOLITANO DE QUITO, DE 07 DE NOVIEMBRE DE 2023\",\n",
      "    \"## **Fecha:**\": \"07 de noviembre de 2023\",\n",
      "    \"## **Temas tratados:**\": [\n",
      "      \"Seguimiento de procesos judiciales relacionados con la inseguridad en Quito.\",\n",
      "      \"Cambio de categoría de un bien municipal y donación a SENESCYT para infraestructura educativa.\",\n",
      "      \"Primer debate del Proyecto de Ordenanza Metropolitana del Fomento del Comercio Justo y Consumo Responsable.\",\n",
      "      \"Segundo debate de la Ordenanza para la Regularización Vial de calles en Conocoto.\"\n",
      "    ],\n",
      "    \"## **Problemas:**\": [\n",
      "      \"Inseguridad en la ciudad, reflejada en eventos de terrorismo.\",\n",
      "      \"Falta de infraestructura educativa en el sur de Quito.\",\n",
      "      \"Necesidad de un marco regulatorio para el comercio justo y responsable.\"\n",
      "    ],\n",
      "    \"## **Peticiones:**\": [\n",
      "      \"Que se informe sobre el seguimiento de los casos de inseguridad.\",\n",
      "      \"Considerar un plazo para la ejecución del proyecto de infraestructura educativa.\",\n",
      "      \"Inclusión de observaciones sobre la propuesta de ordenanza de comercio justo.\"\n",
      "    ],\n",
      "    \"## **Soluciones o acuerdos:**\": [\n",
      "      \"Aprobación del seguimiento a procesos judiciales por el Procurador Metropolitano.\",\n",
      "      \"Aprobación del cambio de categoría del predio para la donación a SENESCYT.\",\n",
      "      \"Se acordó trabajar en el proyecto de ordenanza de comercio justo en comisiones conjuntas.\",\n",
      "      \"El proyecto de regularización vial regresará a la Comisión de Uso de Suelo para ser fortalecido.\"\n",
      "    ],\n",
      "    \"## **Asistentes:**\": [\n",
      "      \"Pabel Muñoz López (Alcalde)\",\n",
      "      \"Fernanda Racines Corredores (Vicealcaldesa)\",\n",
      "      \"Andrés Campaña Remache\",\n",
      "      \"Estefanía Grunauer Reinoso\",\n",
      "      \"Bernardo Abad Merchán\",\n",
      "      \"Blanca Paucar Paucar\",\n",
      "      \"Fidel Chamba Vozmediano\",\n",
      "      \"Diana Cruz Murillo\",\n",
      "      \"Héctor Cueva Cueva\",\n",
      "      \"Gabriel Noroña Díaz\",\n",
      "      \"Emilio Uzcátegui Jiménez\",\n",
      "      \"Adrián Ibarra González\",\n",
      "      \"Juan Báez Bulla\",\n",
      "      \"Wilson Merino Rivadeneira\",\n",
      "      \"Robin Armijos Coloma\",\n",
      "      \"Sagrario de Jesús Angulo (Silla Vacía)\",\n",
      "      \"Cristina López Gómez de la Torre\",\n",
      "      \"Sandra Hidalgo Espinel\",\n",
      "      \"Joselyn Mayorga Salazar\",\n",
      "      \"Michael Aulestia Salazar\",\n",
      "      \"Darío Cahueñas Apunte\",\n",
      "      \"Ángel Vega\"\n",
      "    ]\n",
      "  }\n",
      "}\n"
     ]
    }
   ],
   "source": [
    "#extract ther markdown labels\n",
    "\n",
    "import re\n",
    "\n",
    "def extract_markdown_content(text):\n",
    "    # Regular expression to find content between triple backticks\n",
    "    pattern = r\"```json(.*?)```\"\n",
    "    match = re.search(pattern, text, re.DOTALL)\n",
    "    \n",
    "    if match:\n",
    "        return match.group(1).strip()\n",
    "    else:\n",
    "        return None\n",
    "\n",
    "# Example usage\n",
    "\n",
    "response_summary_TOTAL_vers002_formatted = extract_markdown_content(response_summary_TOTAL_vers002)\n",
    "print(response_summary_TOTAL_vers002_formatted)\n"
   ]
  },
  {
   "cell_type": "markdown",
   "metadata": {},
   "source": [
    "## Exporting to files"
   ]
  },
  {
   "cell_type": "markdown",
   "metadata": {},
   "source": [
    "### Exporting to .txt "
   ]
  },
  {
   "cell_type": "code",
   "execution_count": 8,
   "metadata": {},
   "outputs": [
    {
     "name": "stdout",
     "output_type": "stream",
     "text": [
      "Text extraction completed and saved'.\n"
     ]
    }
   ],
   "source": [
    "\n",
    "#change everytime\n",
    "with open(r\"work_on_minutes\\acta_07_noviembre_2023\\response_summary_TOTAL_vers002_formatted.txt\", \"w\", encoding=\"utf-8\") as text_file:\n",
    " \n",
    "    text_file.write(response_summary_TOTAL_vers002_formatted)  # Write the block text to the file, with spacing between blocks\n",
    "\n",
    "print(\"Text extraction completed and saved'.\")\n"
   ]
  },
  {
   "cell_type": "markdown",
   "metadata": {},
   "source": [
    "### Exporting to .md"
   ]
  },
  {
   "cell_type": "code",
   "execution_count": null,
   "metadata": {},
   "outputs": [],
   "source": [
    "\n",
    "#change everytime\n",
    "with open(r\"C:\\Users\\herms\\Desktop\\Civic_Tech_Research_Project\\PreliminarWork\\preprocessing\\work_on_minutes\\acta_26_abril_2019\\summary_26_04_19\\response_summary_TOTAL_vers002.md\", \"w\", encoding=\"utf-8\") as text_file:\n",
    " \n",
    "    text_file.write(response_summary_TOTAL_vers002)  # Write the block text to the file, with spacing between blocks\n",
    "\n",
    "print(\"Text extraction completed and saved to 'response_summary_TOTAL_vers002'.\")\n"
   ]
  },
  {
   "cell_type": "markdown",
   "metadata": {},
   "source": [
    "### Exporting to .json"
   ]
  },
  {
   "cell_type": "code",
   "execution_count": null,
   "metadata": {},
   "outputs": [],
   "source": [
    "\n",
    "# Write the JSON data to a new file\n",
    "with open(r\"work_on_minutes\\acta_05_diciembre_2023\\response_summary_TOTAL_vers002.json\", \"w\", encoding=\"utf-8\") as json_file:\n",
    "    json.dump( response_summary_TOTAL_vers002_formatted, json_file, ensure_ascii=False, indent=4)\n",
    "\n",
    "print(\"Text extraction completed and saved as JSON.\")"
   ]
  }
 ],
 "metadata": {
  "kernelspec": {
   "display_name": "venv",
   "language": "python",
   "name": "python3"
  },
  "language_info": {
   "codemirror_mode": {
    "name": "ipython",
    "version": 3
   },
   "file_extension": ".py",
   "mimetype": "text/x-python",
   "name": "python",
   "nbconvert_exporter": "python",
   "pygments_lexer": "ipython3",
   "version": "3.10.4"
  }
 },
 "nbformat": 4,
 "nbformat_minor": 2
}
