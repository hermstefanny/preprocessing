{
 "cells": [
  {
   "cell_type": "code",
   "execution_count": 1,
   "metadata": {},
   "outputs": [],
   "source": [
    "# import libraries\n",
    "\n",
    "from openai import OpenAI\n",
    "import os\n",
    "from dotenv import load_dotenv\n"
   ]
  },
  {
   "cell_type": "code",
   "execution_count": 2,
   "metadata": {},
   "outputs": [
    {
     "name": "stdout",
     "output_type": "stream",
     "text": [
      "Number of tokens : 23567\n",
      "\n",
      " ++++++++++++++++++++++++++++++++++++++++++++++++++++++++++++++++++++++++++++++++++++++++++++++\n"
     ]
    }
   ],
   "source": [
    "from pathlib import Path\n",
    "\n",
    "import tiktoken\n",
    "encoding = tiktoken.encoding_for_model(\"gpt-4o-mini\") \n",
    "\n",
    "##change everytime\n",
    "extracted_raw_file = Path(r\"work_on_minutes\\acta_24_06_2024\\extracted_text_24_06_24_clean_vers_001.txt\")\n",
    "\n",
    "text_content = []\n",
    "\n",
    "with open(extracted_raw_file, \"r\", encoding=\"utf-8\") as text_file:\n",
    "    text_full = text_file.read()\n",
    "    \n",
    "    # Count the number of tokens    \n",
    "    text_tokens = encoding.encode(text_full)\n",
    "    num_tokens = len(text_tokens)\n",
    "    print(f\"Number of tokens : {num_tokens}\")\n",
    "\n",
    "    text_content.append(text_full) #save for future processing\n",
    "     \n",
    "    print(\"\\n ++++++++++++++++++++++++++++++++++++++++++++++++++++++++++++++++++++++++++++++++++++++++++++++\")  \n",
    "        "
   ]
  },
  {
   "cell_type": "code",
   "execution_count": 3,
   "metadata": {},
   "outputs": [],
   "source": [
    "## max input tokens 128K \n",
    "# if needed, for a long document, it is going to be necessary to break the document in pieces and make a recursive summarization "
   ]
  },
  {
   "cell_type": "markdown",
   "metadata": {},
   "source": [
    "### Prompt Engineering 1"
   ]
  },
  {
   "cell_type": "code",
   "execution_count": null,
   "metadata": {},
   "outputs": [],
   "source": [
    "#token encoding for the instruction\n",
    "\n",
    "# Load the encoding for the specific model you're using\n",
    "encoding = tiktoken.encoding_for_model(\"gpt-4o-mini\")    \n",
    "\n",
    "# Instruction text\n",
    "instruction = f\"Has un resumen de una minuta de reunión de un gobierno local.\\\n",
    "La intención de este ejercicio es proveer al ciudadano común con información relevante sobre el desempeño de su gobierno local. \\\n",
    "Instrucciones especificas: \\\n",
    "- Enfatiza los problemas, peticiones y soluciones o acuerdos que se llegan \\\n",
    "- Indica los nombres de las personas que participan cuando sea necesario.\\\n",
    "- Indica datos concretos \\\n",
    "- No emitas juicios de valor, manten neutralidad\\\n",
    "- Identifica fechas\\\n",
    "- Identifica los temas que se trataron.\\\n",
    "- Verifica con cuidado al final cuantas personas asistieron a la sesion\\\n",
    "\"\n",
    "\n",
    "# Encode the text\n",
    "instruction_tokens = encoding.encode(instruction)\n",
    "\n",
    "# Count the number of tokens\n",
    "num_tokens = len(instruction_tokens)\n",
    "\n",
    "print(f\"Number of tokens: {num_tokens}\")\n"
   ]
  },
  {
   "cell_type": "markdown",
   "metadata": {},
   "source": [
    "### Prompt Engineering 2"
   ]
  },
  {
   "cell_type": "code",
   "execution_count": 4,
   "metadata": {},
   "outputs": [
    {
     "name": "stdout",
     "output_type": "stream",
     "text": [
      "Number of tokens: 233\n"
     ]
    }
   ],
   "source": [
    "#token encoding for the instruction\n",
    "\n",
    "# Load the encoding for the specific model you're using\n",
    "encoding = tiktoken.encoding_for_model(\"gpt-4o-mini\")    \n",
    "\n",
    "# Instruction text\n",
    "instruction = \"\"\"Has un resumen de una minuta de reunión de un gobierno local con las siguientes instrucciones:\n",
    "    - Identifica los principales temas que se hablaron en la sesion.\n",
    "    - Enfatiza los problemas, peticiones y soluciones o acuerdos que se llegan, indicando los nombres de las personas que participan cuando sea necesario.\n",
    "    - Prioriza datos concretos y no emitas juicios de valor\n",
    "    - Verifica con cuidado cuantas personas asistieron a la sesion\n",
    "    - Envia la informacion con la siguiente estructura:\n",
    "     {\n",
    "     \"date\" : \"yyyy-mm-dd\", \n",
    "     \"document_id\" : \"acta_numero_del_acta\", \n",
    "     \"act_name\": \"nombre del acta\", \n",
    "     \"topics:  [\"temas tratados en la sesion\"], \n",
    "      \"problems\"\": [\"problemas mencionados en la sesion\"],\n",
    "      \"petitions\": [\"peticiones de los asistentes\"],\n",
    "      \"solutions\": [\"soluciones o acuerdos a los que se llegaron\"], \n",
    "      \"participants\": [\"nombres de los asistentes\"],\n",
    "      \"summary\": \"resumen corto de la sesion\",\n",
    "    } \n",
    "    \"\"\"\n",
    "\n",
    "\n",
    "# Encode the text\n",
    "instruction_tokens = encoding.encode(instruction)\n",
    "\n",
    "# Count the number of tokens\n",
    "num_tokens = len(instruction_tokens)\n",
    "\n",
    "print(f\"Number of tokens: {num_tokens}\")\n"
   ]
  },
  {
   "cell_type": "code",
   "execution_count": 5,
   "metadata": {},
   "outputs": [],
   "source": [
    "# loading API key\n",
    "load_dotenv()\n",
    "key_ct = os.environ[\"ct_api_key\"]"
   ]
  },
  {
   "cell_type": "code",
   "execution_count": 6,
   "metadata": {},
   "outputs": [],
   "source": [
    "\n",
    "client = OpenAI(api_key = key_ct)\n",
    "\n",
    "response = client.chat.completions.create(\n",
    "    model = \"gpt-4o-mini\",\n",
    "    messages = [\n",
    "        {\"role\": \"system\", \"content\" : instruction},\n",
    "        {\"role\":\"user\", \"content\":text_content[0]},\n",
    "    ],\n",
    "    temperature = 0.70,\n",
    "    max_tokens = 1100,\n",
    ")\n"
   ]
  },
  {
   "cell_type": "code",
   "execution_count": 7,
   "metadata": {},
   "outputs": [
    {
     "name": "stdout",
     "output_type": "stream",
     "text": [
      "```json\n",
      "{\n",
      "  \"date\": \"2024-06-24\",\n",
      "  \"document_id\": \"acta_070\",\n",
      "  \"act_name\": \"Acta de la Sesión Extraordinaria de Concejo No. 070\",\n",
      "  \"topics\": [\n",
      "    \"Verificación del cuórum\",\n",
      "    \"Instalación de la sesión\",\n",
      "    \"Lectura del Orden del Día\",\n",
      "    \"Conocimiento del Proyecto de Resolución sobre mediación con Consorcio CAF\"\n",
      "  ],\n",
      "  \"problems\": [\n",
      "    \"Controversias sobre el mantenimiento de los trenes y el costo de servicios por parte del Consorcio CAF\",\n",
      "    \"Confusión sobre si los acuerdos de mediación son vinculantes\"\n",
      "  ],\n",
      "  \"petitions\": [\n",
      "    \"Se solicita al Alcalde que tome acciones para la reestructuración de rutas y frecuencias\",\n",
      "    \"Se pide asegurar que el mantenimiento de los trenes sea realizado adecuadamente\"\n",
      "  ],\n",
      "  \"solutions\": [\n",
      "    \"Se aprobó la suscripción del acta de mediación con el Consorcio CAF para mantener precios de mantenimiento por ocho meses\",\n",
      "    \"Se establece que la Empresa Metro de Quito convocará a un nuevo procedimiento de contratación para mantenimiento a largo plazo\"\n",
      "  ],\n",
      "  \"participants\": [\n",
      "    \"Pabel Muñoz López (Alcalde)\",\n",
      "    \"Juan Carlos Parra (Gerente General de la Empresa Pública Metropolitana Metro de Quito)\",\n",
      "    \"Bernardo Abad Merchán\",\n",
      "    \"Andrés Campaña Remache\",\n",
      "    \"Fidel Chamba Vozmediano\",\n",
      "    \"Diana Cruz Murillo\",\n",
      "    \"Héctor Cueva Cueva\",\n",
      "    \"Estefanía Grunauer Reinoso\",\n",
      "    \"Wilson Merino Rivadeneira\",\n",
      "    \"Michael Aulestia Salazar\",\n",
      "    \"Fernanda Racines Corredores\",\n",
      "    \"Blanca Paucar Paucar\",\n",
      "    \"Darío Cahueñas Apunte\",\n",
      "    \"Robin Armijos Coloma\",\n",
      "    \"Gabriel Noroña Díaz\",\n",
      "    \"Sandra Hidalgo Espinel\",\n",
      "    \"Cristina López Gómez de la Torre\",\n",
      "    \"Emilio Uzcátegui Jiménez\",\n",
      "    \"Ángel Vega\",\n",
      "    \"Joselyn Mayorga Salazar\",\n",
      "    \"Diego Garrido Villagómez\"\n",
      "  ],\n",
      "  \"summary\": \"En la Sesión Extraordinaria No. 070 se verificó el cuórum y se discutió la mediación con el Consorcio CAF sobre el mantenimiento de los trenes del Metro de Quito. Se aprobó la resolución que autoriza al Alcalde a suscribir el acta de mediación, manteniendo precios ajustados por inflación durante ocho meses, mientras se planifica un nuevo proceso de contratación a largo plazo.\"\n",
      "}\n",
      "```\n"
     ]
    }
   ],
   "source": [
    "#change everytime\n",
    "response_summary_TOTAL_vers001 = response.choices[0].message.content\n",
    "print(response_summary_TOTAL_vers001)   "
   ]
  },
  {
   "cell_type": "markdown",
   "metadata": {},
   "source": [
    "### Formatting"
   ]
  },
  {
   "cell_type": "code",
   "execution_count": 8,
   "metadata": {},
   "outputs": [
    {
     "name": "stdout",
     "output_type": "stream",
     "text": [
      "{\n",
      "  \"date\": \"2024-06-24\",\n",
      "  \"document_id\": \"acta_070\",\n",
      "  \"act_name\": \"Acta de la Sesión Extraordinaria de Concejo No. 070\",\n",
      "  \"topics\": [\n",
      "    \"Verificación del cuórum\",\n",
      "    \"Instalación de la sesión\",\n",
      "    \"Lectura del Orden del Día\",\n",
      "    \"Conocimiento del Proyecto de Resolución sobre mediación con Consorcio CAF\"\n",
      "  ],\n",
      "  \"problems\": [\n",
      "    \"Controversias sobre el mantenimiento de los trenes y el costo de servicios por parte del Consorcio CAF\",\n",
      "    \"Confusión sobre si los acuerdos de mediación son vinculantes\"\n",
      "  ],\n",
      "  \"petitions\": [\n",
      "    \"Se solicita al Alcalde que tome acciones para la reestructuración de rutas y frecuencias\",\n",
      "    \"Se pide asegurar que el mantenimiento de los trenes sea realizado adecuadamente\"\n",
      "  ],\n",
      "  \"solutions\": [\n",
      "    \"Se aprobó la suscripción del acta de mediación con el Consorcio CAF para mantener precios de mantenimiento por ocho meses\",\n",
      "    \"Se establece que la Empresa Metro de Quito convocará a un nuevo procedimiento de contratación para mantenimiento a largo plazo\"\n",
      "  ],\n",
      "  \"participants\": [\n",
      "    \"Pabel Muñoz López (Alcalde)\",\n",
      "    \"Juan Carlos Parra (Gerente General de la Empresa Pública Metropolitana Metro de Quito)\",\n",
      "    \"Bernardo Abad Merchán\",\n",
      "    \"Andrés Campaña Remache\",\n",
      "    \"Fidel Chamba Vozmediano\",\n",
      "    \"Diana Cruz Murillo\",\n",
      "    \"Héctor Cueva Cueva\",\n",
      "    \"Estefanía Grunauer Reinoso\",\n",
      "    \"Wilson Merino Rivadeneira\",\n",
      "    \"Michael Aulestia Salazar\",\n",
      "    \"Fernanda Racines Corredores\",\n",
      "    \"Blanca Paucar Paucar\",\n",
      "    \"Darío Cahueñas Apunte\",\n",
      "    \"Robin Armijos Coloma\",\n",
      "    \"Gabriel Noroña Díaz\",\n",
      "    \"Sandra Hidalgo Espinel\",\n",
      "    \"Cristina López Gómez de la Torre\",\n",
      "    \"Emilio Uzcátegui Jiménez\",\n",
      "    \"Ángel Vega\",\n",
      "    \"Joselyn Mayorga Salazar\",\n",
      "    \"Diego Garrido Villagómez\"\n",
      "  ],\n",
      "  \"summary\": \"En la Sesión Extraordinaria No. 070 se verificó el cuórum y se discutió la mediación con el Consorcio CAF sobre el mantenimiento de los trenes del Metro de Quito. Se aprobó la resolución que autoriza al Alcalde a suscribir el acta de mediación, manteniendo precios ajustados por inflación durante ocho meses, mientras se planifica un nuevo proceso de contratación a largo plazo.\"\n",
      "}\n"
     ]
    }
   ],
   "source": [
    "#extract ther markdown labels\n",
    "\n",
    "import re\n",
    "\n",
    "def extract_markdown_content(text):\n",
    "    # Regular expression to find content between triple backticks\n",
    "    pattern = r\"```json(.*?)```\"\n",
    "    match = re.search(pattern, text, re.DOTALL)\n",
    "    \n",
    "    if match:\n",
    "        return match.group(1).strip()\n",
    "    else:\n",
    "        return None\n",
    "\n",
    "# Example usage\n",
    "\n",
    "response_summary_TOTAL_vers001_formatted = extract_markdown_content(response_summary_TOTAL_vers001)\n",
    "print(response_summary_TOTAL_vers001_formatted)\n"
   ]
  },
  {
   "cell_type": "markdown",
   "metadata": {},
   "source": [
    "## Exporting to files"
   ]
  },
  {
   "cell_type": "markdown",
   "metadata": {},
   "source": [
    "### Exporting to .txt "
   ]
  },
  {
   "cell_type": "code",
   "execution_count": 9,
   "metadata": {},
   "outputs": [
    {
     "name": "stdout",
     "output_type": "stream",
     "text": [
      "Text extraction completed and saved'.\n"
     ]
    }
   ],
   "source": [
    "\n",
    "#change everytime\n",
    "with open(r\"work_on_minutes\\acta_24_06_2024\\response_summary_TOTAL_vers001.json\", \"w\", encoding=\"utf-8\") as text_file:\n",
    " \n",
    "    text_file.write(response_summary_TOTAL_vers001_formatted)  # Write the block text to the file, with spacing between blocks\n",
    "\n",
    "print(\"Text extraction completed and saved'.\")\n"
   ]
  },
  {
   "cell_type": "markdown",
   "metadata": {},
   "source": [
    "### Exporting to .md"
   ]
  },
  {
   "cell_type": "code",
   "execution_count": null,
   "metadata": {},
   "outputs": [],
   "source": [
    "\n",
    "#change everytime\n",
    "with open(r\"C:\\Users\\herms\\Desktop\\Civic_Tech_Research_Project\\PreliminarWork\\preprocessing\\work_on_minutes\\acta_26_abril_2019\\summary_26_04_19\\response_summary_TOTAL_vers002.md\", \"w\", encoding=\"utf-8\") as text_file:\n",
    " \n",
    "    text_file.write(response_summary_TOTAL_vers002)  # Write the block text to the file, with spacing between blocks\n",
    "\n",
    "print(\"Text extraction completed and saved to 'response_summary_TOTAL_vers002'.\")\n"
   ]
  },
  {
   "cell_type": "markdown",
   "metadata": {},
   "source": [
    "### Exporting to .json"
   ]
  },
  {
   "cell_type": "code",
   "execution_count": null,
   "metadata": {},
   "outputs": [],
   "source": [
    "\n",
    "# Write the JSON data to a new file\n",
    "with open(r\"work_on_minutes\\acta_05_diciembre_2023\\response_summary_TOTAL_vers002.json\", \"w\", encoding=\"utf-8\") as json_file:\n",
    "    json.dump( response_summary_TOTAL_vers002_formatted, json_file, ensure_ascii=False, indent=4)\n",
    "\n",
    "print(\"Text extraction completed and saved as JSON.\")"
   ]
  }
 ],
 "metadata": {
  "kernelspec": {
   "display_name": "venv",
   "language": "python",
   "name": "python3"
  },
  "language_info": {
   "codemirror_mode": {
    "name": "ipython",
    "version": 3
   },
   "file_extension": ".py",
   "mimetype": "text/x-python",
   "name": "python",
   "nbconvert_exporter": "python",
   "pygments_lexer": "ipython3",
   "version": "3.10.4"
  }
 },
 "nbformat": 4,
 "nbformat_minor": 2
}
