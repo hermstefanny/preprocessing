{
 "cells": [
  {
   "cell_type": "code",
   "execution_count": 1,
   "metadata": {},
   "outputs": [],
   "source": [
    "# import libraries\n",
    "\n",
    "from openai import OpenAI\n",
    "import os\n",
    "from dotenv import load_dotenv\n"
   ]
  },
  {
   "cell_type": "code",
   "execution_count": 2,
   "metadata": {},
   "outputs": [
    {
     "name": "stdout",
     "output_type": "stream",
     "text": [
      "Number of tokens of chunk_0.txt: 4658\n",
      "\n",
      " ++++++++++++++++++++++++++++++++++++++++++++++++++++++++++++++++++++++++++++++++++++++++++++++\n",
      "Number of tokens of chunk_1.txt: 3607\n",
      "\n",
      " ++++++++++++++++++++++++++++++++++++++++++++++++++++++++++++++++++++++++++++++++++++++++++++++\n",
      "Number of tokens of chunk_2.txt: 3768\n",
      "\n",
      " ++++++++++++++++++++++++++++++++++++++++++++++++++++++++++++++++++++++++++++++++++++++++++++++\n",
      "Number of tokens of chunk_3.txt: 4207\n",
      "\n",
      " ++++++++++++++++++++++++++++++++++++++++++++++++++++++++++++++++++++++++++++++++++++++++++++++\n",
      "Number of tokens of chunk_4.txt: 551\n",
      "\n",
      " ++++++++++++++++++++++++++++++++++++++++++++++++++++++++++++++++++++++++++++++++++++++++++++++\n"
     ]
    }
   ],
   "source": [
    "from pathlib import Path\n",
    "\n",
    "import tiktoken\n",
    "encoding = tiktoken.encoding_for_model(\"gpt-4o-mini\") \n",
    "\n",
    "directory = Path(r'C:\\Users\\herms\\Desktop\\Civic_Tech_Research_Project\\PreliminarWork\\preprocessing\\acta_4_febrero_2019\\chunks_texts')\n",
    "\n",
    "text_content =[]\n",
    "# Iterate over all .txt files in the directory\n",
    "for file_path in directory.glob('*.txt'):\n",
    "    # Open and read the file\n",
    "    with file_path.open('r', encoding=\"utf8\") as file:\n",
    "        text_file = file.read()\n",
    "        # Count the number of tokens    \n",
    "        instruction_tokens = encoding.encode(text_file)\n",
    "        num_tokens = len(instruction_tokens)\n",
    "        print(f\"Number of tokens of {file_path.name}: {num_tokens}\")\n",
    "\n",
    "        text_content.append(text_file) #save for future processing\n",
    "     \n",
    "        print(\"\\n ++++++++++++++++++++++++++++++++++++++++++++++++++++++++++++++++++++++++++++++++++++++++++++++\")  \n",
    "        "
   ]
  },
  {
   "cell_type": "code",
   "execution_count": 20,
   "metadata": {},
   "outputs": [
    {
     "name": "stdout",
     "output_type": "stream",
     "text": [
      "Number of tokens: 149\n"
     ]
    }
   ],
   "source": [
    "#token encoding for the instruction\n",
    "\n",
    "# Load the encoding for the specific model you're using\n",
    "encoding = tiktoken.encoding_for_model(\"gpt-4o-mini\")    \n",
    "\n",
    "# Instruction text\n",
    "instruction = f\"Has un resumen de entre 400 y 500 palabras de una parte de una minuta de reunión de un gobierno local.\\\n",
    "La minuta de la reunión es un unico documento pero ha sido dividido en partes \\\n",
    "La modalidad de esta tarea es un resumen recursivo, por lo que lo vamos a realizar por partes. \\\n",
    "La intención de este ejercicio es proveer al ciudadano común con información relevante sobre el desempeño de su gobierno local. \\\n",
    "Instrucciones especificas: \\\n",
    "- Enfatiza los problemas, peticiones y soluciones o acuerdos que se llegan \\\n",
    "- Indica los nombres de las personas que participan cuando sea necesario.\\\n",
    "- Indica datos concretos \\\n",
    "- No emitas juicios de valor, manten neutralidad\\\n",
    "- Identifica fechas\\\n",
    "- Identifica los temas que se trataron.\"\n",
    "\n",
    "# Encode the text\n",
    "instruction_tokens = encoding.encode(instruction)\n",
    "\n",
    "# Count the number of tokens\n",
    "num_tokens = len(instruction_tokens)\n",
    "\n",
    "print(f\"Number of tokens: {num_tokens}\")\n"
   ]
  },
  {
   "cell_type": "code",
   "execution_count": 21,
   "metadata": {},
   "outputs": [],
   "source": [
    "# loading API key\n",
    "load_dotenv()\n",
    "key_ct = os.environ[\"ct_api_key\"]\n"
   ]
  },
  {
   "cell_type": "code",
   "execution_count": 22,
   "metadata": {},
   "outputs": [
    {
     "name": "stdout",
     "output_type": "stream",
     "text": [
      "Summary: La minuta de la reunión del Gobierno Local, encabezada por el Dr. Mauricio Rodas Espinel, Alcalde del Distrito Metropolitano de Quito, incluye la asistencia de varios miembros del concejo y otros funcionarios. Entre los asistentes se destacan nombres como el Dr. Mario Granda, la Ing. Anabel Hermosa, y la Sra. Gisela Chalá, entre otros. Otros miembros, como el Sr. Jorge Albán y la Lic. Susana Castañeda, no estuvieron presentes en esta sesión.\n",
      "\n",
      "Durante la reunión, se abordaron varios temas de relevancia para la comunidad. Uno de los problemas principales discutidos fue la situación del transporte público en Quito. Se reportaron quejas de los ciudadanos sobre la falta de unidades suficientes y la ineficiencia en las rutas, lo que ha generado congestión en las horas pico. En respuesta a esta situación, el Ing. Carlos Páez propuso realizar un estudio de viabilidad para incrementar la flota de buses y optimizar las rutas existentes. Este estudio deberá ser presentado en la próxima reunión del concejo programada para el 15 de noviembre de 2023.\n",
      "\n",
      "Otro tema relevante fue la seguridad ciudadana. La Sra. Karen Sánchez planteó la necesidad de fortalecer la colaboración entre la Policía Nacional y el gobierno local. Se acordó que el Dr. Rodas se reunirá con el Comandante de Policía de la zona para discutir la implementación de más patrullajes y programas de prevención del delito, enfocándose en los sectores más vulnerables. La fecha de esta reunión aún está por definirse, pero se espera que se realice antes de fin de mes.\n",
      "\n",
      "La situación ambiental también fue un punto de discusión clave. La Dra. Renata Moreno trajo a colación la creciente preocupación por la contaminación en la ciudad. Se sugirió la creación de campañas de concientización y el fomento del uso de medios de transporte alternativos, como la bicicleta. El Eco. Luis Reina se comprometió a elaborar una propuesta en conjunto con organizaciones ambientales locales, la cual se presentará a más tardar el 5 de diciembre de 2023.\n",
      "\n",
      "Además, se abordaron las necesidades de infraestructura en las comunidades más afectadas por el clima. El Abg. Sergio Garnica destacó la importancia de reparar las calles y caminos que han resultado dañados por las lluvias. Se acordó que el Ing. César Benalcázar elaborará un informe sobre las condiciones actuales de las vías y presentará un plan de acción en la próxima sesión.\n",
      "\n",
      "Finalmente, se hizo un llamado a la comunidad para que se involucre más activamente en la toma de decisiones y en la vigilancia del cumplimiento de los acuerdos alcanzados. La Sra. Ivone Von Lippke sugirió la creación de un canal de comunicación directo entre los ciudadanos y el concejo para facilitar la presentación de quejas y sugerencias, lo que fue bien recibido por todos los asistentes.\n",
      "\n",
      "En resumen, la reunión fue productiva y se lograron acuerdos importantes en temas de transporte, seguridad, medio ambiente e infraestructura, con compromisos claros por parte de los miembros del concejo para abordar las necesidades de la ciudadanía en Quito.\n"
     ]
    }
   ],
   "source": [
    "\n",
    "client = OpenAI(api_key = key_ct)\n",
    "\n",
    "response = client.chat.completions.create(\n",
    "    model = \"gpt-4o-mini\",\n",
    "    messages = [\n",
    "        {\"role\": \"system\", \"content\" : instruction},\n",
    "        {\"role\":\"user\", \"content\":text_content[4]},\n",
    "    ],\n",
    "    temperature = 0.7,\n",
    "    max_tokens = 800,\n",
    ")\n",
    "\n",
    "response_summary_005 = response.choices[0].message.content\n",
    "print(\"Summary:\", response_summary_005)   "
   ]
  },
  {
   "cell_type": "code",
   "execution_count": 23,
   "metadata": {},
   "outputs": [
    {
     "name": "stdout",
     "output_type": "stream",
     "text": [
      "Text extraction completed and saved to 'summary_005.txt'.\n"
     ]
    }
   ],
   "source": [
    "\n",
    "# Extract text by blocks and save to a file, excluding headers and footers\n",
    "with open(\"summary_005.txt\", \"w\", encoding=\"utf-8\") as text_file:\n",
    " \n",
    "    text_file.write(response_summary_005)  # Write the block text to the file, with spacing between blocks\n",
    "\n",
    "print(\"Text extraction completed and saved to 'summary_005.txt'.\")\n"
   ]
  }
 ],
 "metadata": {
  "kernelspec": {
   "display_name": "venv",
   "language": "python",
   "name": "python3"
  },
  "language_info": {
   "codemirror_mode": {
    "name": "ipython",
    "version": 3
   },
   "file_extension": ".py",
   "mimetype": "text/x-python",
   "name": "python",
   "nbconvert_exporter": "python",
   "pygments_lexer": "ipython3",
   "version": "3.10.4"
  }
 },
 "nbformat": 4,
 "nbformat_minor": 2
}
