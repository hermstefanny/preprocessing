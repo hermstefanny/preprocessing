{
 "cells": [
  {
   "cell_type": "code",
   "execution_count": 3,
   "metadata": {},
   "outputs": [],
   "source": [
    "#import libraries for pdf extraction\n",
    "import fitz"
   ]
  },
  {
   "cell_type": "code",
   "execution_count": 5,
   "metadata": {},
   "outputs": [],
   "source": [
    "#Open PDF docs\n",
    "test_doc = fitz.open(r\"C:\\Users\\herms\\Desktop\\Civic_Tech_Research_Project\\PreliminarWork\\PreliminarData\\SESIONES CONCEJO QUITO\\2019\\Abril\\ACTA-E-2019-02-04.pdf\")"
   ]
  },
  {
   "cell_type": "code",
   "execution_count": 6,
   "metadata": {},
   "outputs": [],
   "source": [
    "#extract the text\n",
    "# Initialize a variable to hold the extracted text\n",
    "extracted_text = \"\"\n",
    "\n",
    "# Loop through each page\n",
    "for page_num in range(len(test_doc)):\n",
    "    page = test_doc.load_page(page_num)  # Load the page\n",
    "    text = page.get_text()  # Extract text from the page\n",
    "    extracted_text += text  # Add the extracted text to the variable\n",
    "\n",
    "# Close the document\n",
    "test_doc.close()\n"
   ]
  },
  {
   "cell_type": "code",
   "execution_count": 7,
   "metadata": {},
   "outputs": [
    {
     "name": "stdout",
     "output_type": "stream",
     "text": [
      "Text extraction completed and saved to 'extracted_text.txt'.\n"
     ]
    }
   ],
   "source": [
    "# Save the extracted text to a file\n",
    "with open(\"extracted_text_first_test.txt\", \"w\", encoding=\"utf-8\") as text_file:\n",
    "    text_file.write(extracted_text)\n",
    "\n",
    "print(\"Text extraction completed and saved to 'extracted_text.txt'.\")"
   ]
  }
 ],
 "metadata": {
  "kernelspec": {
   "display_name": "venv",
   "language": "python",
   "name": "python3"
  },
  "language_info": {
   "codemirror_mode": {
    "name": "ipython",
    "version": 3
   },
   "file_extension": ".py",
   "mimetype": "text/x-python",
   "name": "python",
   "nbconvert_exporter": "python",
   "pygments_lexer": "ipython3",
   "version": "3.10.4"
  }
 },
 "nbformat": 4,
 "nbformat_minor": 2
}
