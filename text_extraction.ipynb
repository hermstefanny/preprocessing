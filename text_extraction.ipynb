{
 "cells": [
  {
   "cell_type": "code",
   "execution_count": 15,
   "metadata": {},
   "outputs": [],
   "source": [
    "#import libraries for pdf extraction\n",
    "import fitz"
   ]
  },
  {
   "cell_type": "code",
   "execution_count": 16,
   "metadata": {},
   "outputs": [],
   "source": [
    "#Open PDF docs\n",
    "test_doc = fitz.open(r\"C:\\Users\\herms\\Desktop\\Civic_Tech_Research_Project\\PreliminarWork\\PreliminarData\\SESIONES CONCEJO QUITO\\2019\\Abril\\ACTA-E-2019-02-04.pdf\")"
   ]
  },
  {
   "cell_type": "code",
   "execution_count": 17,
   "metadata": {},
   "outputs": [],
   "source": [
    "#extract the text\n",
    "# Initialize a variable to hold the extracted text\n",
    "extracted_text_block = [ ]\n",
    "text_string = ''\n",
    "\n",
    "# Loop through each page\n",
    "for page_num in range(len(test_doc)):\n",
    "    page = test_doc.load_page(page_num)  # Load the page\n",
    "    text_block = page.get_text('blocks')  # Extract text from the page as blocks\n",
    "\n",
    "    for block in text_block:\n",
    "            text = block[4]  # The text content is in the 5th element of the block tuple\n",
    "            text_string += text + \"\\n\\n\" # Write the block text to the file, with spacing between blocks\n",
    "\n",
    "\n",
    "# Close the document\n",
    "test_doc.close()\n"
   ]
  },
  {
   "cell_type": "code",
   "execution_count": 18,
   "metadata": {},
   "outputs": [
    {
     "name": "stdout",
     "output_type": "stream",
     "text": [
      "Text extraction completed and saved to 'extracted_text.txt'.\n"
     ]
    }
   ],
   "source": [
    "# Save the extracted text to a file\n",
    "with open(\"extracted_text_first_test_BLOCKS.txt\", \"w\", encoding=\"utf-8\") as text_file:\n",
    "    text_file.write(text_string)\n",
    "\n",
    "print(\"Text extraction completed and saved to extracted_text_first_test_BLOCKS \")"
   ]
  }
 ],
 "metadata": {
  "kernelspec": {
   "display_name": "venv",
   "language": "python",
   "name": "python3"
  },
  "language_info": {
   "codemirror_mode": {
    "name": "ipython",
    "version": 3
   },
   "file_extension": ".py",
   "mimetype": "text/x-python",
   "name": "python",
   "nbconvert_exporter": "python",
   "pygments_lexer": "ipython3",
   "version": "3.10.4"
  }
 },
 "nbformat": 4,
 "nbformat_minor": 2
}
