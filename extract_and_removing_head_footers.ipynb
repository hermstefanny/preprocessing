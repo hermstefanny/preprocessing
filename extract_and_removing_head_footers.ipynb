{
 "cells": [
  {
   "cell_type": "code",
   "execution_count": 1,
   "metadata": {},
   "outputs": [],
   "source": [
    "import fitz  # PyMuPDF is imported as fitz\n"
   ]
  },
  {
   "cell_type": "code",
   "execution_count": 9,
   "metadata": {},
   "outputs": [],
   "source": [
    "\n",
    "# Open the PDF document\n",
    "test_doc = fitz.open(r\"C:\\Users\\herms\\Desktop\\Civic_Tech_Research_Project\\PreliminarWork\\PreliminarData\\SESIONES CONCEJO QUITO\\2019\\Abril\\ACTA-E-2019-02-04.pdf\")\n"
   ]
  },
  {
   "cell_type": "markdown",
   "metadata": {},
   "source": [
    "## Extracting"
   ]
  },
  {
   "cell_type": "code",
   "execution_count": 3,
   "metadata": {},
   "outputs": [],
   "source": [
    "\n",
    "# Define thresholds (adjust these based on your document)\n",
    "header_threshold = 0.060  # Top 10% of the page height\n",
    "footer_threshold = 0.9  # Bottom 10% of the page height\n"
   ]
  },
  {
   "cell_type": "code",
   "execution_count": 10,
   "metadata": {},
   "outputs": [],
   "source": [
    "#extract the text\n",
    "# Initialize a variable to hold the extracted text\n",
    "extracted_text_block = [ ]\n",
    "text_string = ''\n",
    "\n",
    "# Loop through each page\n",
    "for page_num in range(len(test_doc)):\n",
    "    page = test_doc.load_page(page_num)  # Load the page\n",
    "    text_block = page.get_text('blocks')  # Extract text from the page as blocks\n",
    "    page_height = page.rect.height  # Get the height of the page\n",
    "\n",
    "    for block in text_block:\n",
    "            # Get the vertical position of the block (block[1] is the top y-coordinate, block[3] is the bottom y-coordinate)\n",
    "            block_top = block[1]\n",
    "            block_bottom = block[3]\n",
    "\n",
    "            # Filter out blocks that are within the header or footer region\n",
    "            if (block_top > page_height * header_threshold) and (block_bottom < page_height * footer_threshold):\n",
    "                text = block[4]  # The text content is in the 5th element of the block tuple\n",
    "                text_string += text + \"\\n\\n\" # Write the block text\n",
    "# Close the document\n",
    "test_doc.close()\n"
   ]
  },
  {
   "cell_type": "markdown",
   "metadata": {},
   "source": [
    "## Cleaning"
   ]
  },
  {
   "cell_type": "markdown",
   "metadata": {},
   "source": [
    "### Removing misspelled words with spell checker"
   ]
  },
  {
   "cell_type": "code",
   "execution_count": null,
   "metadata": {},
   "outputs": [],
   "source": [
    "text_for_clean = text_string"
   ]
  },
  {
   "cell_type": "code",
   "execution_count": null,
   "metadata": {},
   "outputs": [],
   "source": [
    "import re\n",
    "from spellchecker import SpellChecker\n",
    "\n",
    "# Initialize the spell checker\n",
    "spell = SpellChecker(language='es')  # Use 'es' for Spanish or 'en' for English\n",
    "custom_words =['entregaron', 'efectuarlo', 'estuvo', 'enríquez', 'viacrucis', 'elegidos', 'cupos', 'regulariza', 'debiendo', 'irse', \n",
    "               'ajustando', 'asignados', 'acto', 'sometió', 'subsiguientes', 'prohibido', 'precisiones', 'existían', 'encuentran', \n",
    "               'refiere', 'determina', 'relacionadas', 'defina', 'dígnese', 'resolvió', 'iva', 'concluirlo', 'tuvo', 'quedaban', 'saben', 'determinando', 'últimas', 'mashikuna', 'van', 'queremos', 'instalada', 'observaciones', 'solicitudes', 'señalo', 'respetemos', 'venido', 'produjo', 'han', 'preguntas', 'deberían', 'vigilantes', 'estudios', 'realiza', 'sancionada', 'consecuencias', 'sucediera', 'rapiditos', 'permitió', 'taxismo', 'basaría', 'aprobó', 'insumo', 'significa', 'deteniendo', 'acoge', 'actualización', 'contamos', 'obedece', 'regularización', 'preocupaciones', 'subclases', 'acortando', 'declaró', 'muchos', 'palabras', 'contrarrestado', 'fáciles', 'existentes', 'buses', 'ingresa', 'conocerá', 'estuvieron', 'compete', 'adoptado', 'podían', 'planteo', 'opciones', 'doceava', 'discutirlo', 'brinda', 'kaypi', 'ayuden', 'presentaron', 'reemplace', 'valores', 'profesionales', 'serán', 'sucediendo', 'incorporarle', 'contraloría', 'resoluciones', 'aprendido', 'testigos', 'normas', 'aspirantes', 'etc', 'recursos', 'buenas', 'sale', 'totales', 'conductas', 'asegurando', 'mismas', 'regulatorio', 'decide', 'electrónicos', 'factores', 'incorpore', 'reconozca', 'recordarles', 'somos', 'vamos', 'dio', 'aquellas', 'cuestionamiento', 'kathy', 'identificada', 'actos', 'especiales', 'implementarse', 'otros', 'destrozando', 'corrija', 'sigo', 'implementación', 'trabajó', 'según', 'desfases', 'analicemos', 'requerirá', 'estoy', 'teníamos', 'digámoslo', 'créanme', 'transitorias', 'consultoría', 'permitirán', 'aquellos', 'acompaña', 'planteamientos', 'allanó', 'pasarse', 'solventa', 'estaría', 'quedó', 'constatar', 'incluyeron', 'actualizando', 'declararse', 'constituye', 'fui', 'hemos', 'oficios', 'cuestionado', 'vendría', 'volvemos', 'tenerlo', 'entregas', 'puntos', 'procesarlas', 'responsables', 'encuentre', 'iniciado', 'onceava', 'compañías', 'considerados', 'habida', 'nuevas', 'pasó', 'cuestiones', 'insisto', 'límites', 'términos', 'siendo', 'entregados', 'evidenciado', 'casos', 'anteponga', 'quienes', 'asisten', 'remitió', 'conste', 'claros', 'pedimos', 'it', 'determinamos', 'funcionarios', 'tenía', 'cumplan', 'manifieste', 'lleguen', 'penales', 'éramos', 'viviendo', 'anule', 'podido', 'pido', 'sergio', 'karen', 'exámenes', 'contratada', 'estaban', 'necesarios', 'puntuales', 'tardes', 'podamos', 'proceda', 'exista', 'ing', 'incorporarlo', 'nótese', 'abren', 'errores', 'podrá', 'habido', 'cómo', 'complementa', 'conocidos', 'contando', 'permite', 'continúen', 'podríamos', 'urbanístico', 'notificará', 'iba', 'apoyó', 'alcanzamos', 'sra', 'asignen', 'enfrentamos', 'estimados', 'puede', 'recordarán', 'hago', 'informó', 'cumplen', 'deben', 'procedimientos', 'señalamos', 'ciertos', 'establece', 'ivone', 'actualizado', 'guíe', 'mario', 'ingresan', 'acompañando', 'sugerida', 'procederse', 'convalidados', 'quisiera', 'razones', 'sírvanse', 'previos',  'pone', 'empresas', 'presentando', 'cuente', 'problemas', 'preocupa', 'achkakuna', 'tantos', 'entregue', 'exactos', 'está', 'manifestado', 'trate', 'señala', 'manos', 'motivado', 'económicas', 'remanentes', 'provisionales', 'constituidas', 'rodando', 'estamos', 'cumplían', 'contempla', 'clamando', 'resuelve', 'inhibirá', 'lleve', 'primeros', 'permítanme', 'pidiendo', 'descansen', 'ratificarlo', 'agregue', 'anabel', 'fiscales', 'dando', 'pueden', 'establecieron', 'presentó', 'surte', 'amigos', 'mejores', 'planteándose', 'mencionada', 'erogó', 'decida', 'gianni', 'exigencias', 'técnicos', 'limitante', 'formales', 'muchísimas', 'charipaychik', 'posiblemente', 'importantísimo', 'dólares', 'estaríamos', 'parece', 'ilegales', 'observamos', 'obviamente', 'dijo', 'contados', 'presenté', 'creemos', 'indica', 'sujetos', 'actas', 'determine', 'idóneos', 'pide', 'quiero', 'variables', 'manejó', 'arrojó', 'referido', 'articulados', 'constitucionales', 'manifestó', 'convenza', 'cuales', 'contemplada', 'eran', 'sé', 'habló', 'cúmpleme', 'aportados', 'mismos', 'procedamos', 'dispuestos', 'favorables', 'abordado', 'demandas', 'resolverse', 'importantes', 'albán', 'planteadas', 'planteado', 'lugares', 'debemos', 'comiencen', 'vs', 'planteada', 'tremendamente', 'disposiciones', 'va', 'señores', 'sea', 'escapa', 'normativamente', 'cumple', 'incrementado', 'golpes', 'acabamos', 'uyakkunapash', 'extingue', 'asignaría', 'sr', 'criterios', 'acoja', 'gustaría', 'fueron', 'analizadas', 'confirmados', 'esperado', 'hubiéramos', 'artículos', 'administrativos', 'disponibles', 'expedirá', 'punllata', 'personas', 'almorzando', 'analizarlo', 'pasos', 'hace', 'horas', 'dan', 'existía', 'quiera', 'determinó', 'alcanzarán', 'pakrachu', 'receptores', 'quieren', 'nuevos', 'entiendo', 'cuestiona', 'concejales', 'deberá', 'hagan', 'denominan', 'procesos', 'pediría', 'quedamos', 'garnica', 'presentará', 'responsabilidades', 'debían', 'diciendo', 'asiste', 'aplica', 'presentados', 'continúe', 'inicie', 'cabezas', 'lippke', 'propuestos', 'cayendo', 'estando', 'tratados', 'aceptando', 'debería', 'jurídicos', 'enmarcada', 'sido', 'cifras', 'ejemplos', 'contiene', 'informado', 'operativos', 'mencionado', 'bienvenidos', 'ido', 'causando', 'otras', 'emita', 'antecedentes', 'prestando', 'informático', 'vuelve', 'amt', 'posibilidades', 'alfredo', 'había', 'resolverlo', 'dónde', 'termine', 'silvia', 'requerirían', 'aplicante', 'veo', 'irregulares', 'copias', 'investigaciones', 'finalizado', 'haberlo', 'muchas', 'precarización', 'chalá', 'creo', 'incluya', 'causales', 'aspiro', 'evitarnos', 'entregando', 'encuestas', 'desechando', 'contenidas', 'herramientas', 'c313', 'considerandos', 'conoció', 'decirle', 'interpretarlo', 'insertos', 'apoyaremos', 'viene', 'jurídicas', 'ponga', 'basado', 'funciones', 'tenga', 'insuficientes', 'tomó', 'relevantes', 'clausurada', 'dra', 'únicos', 'hechas', 'habíamos', 'quién', 'benítez', 'taxis', 'propuestas', 'emitidos', 'interesa', 'generales', 'dirigentes', 'dadas', 'complejizó', 'benalcázar', 'von', 'compañeros', 'trayendo', 'profesionalmente', 'incluye', 'hacerlo', 'casas', 'estructurada', 'caigamos', 'señalaba', 'hacerse', 'calificados', 'decirlo', 'coge', 'miguel', 'vehicular', 'termina', 'parecería', 'someten', 'circunstancias', 'tengan', 'posibles', 'recordemos', 'aclarando', 'llevando', 'formalizados', 'establecido', 'informes', 'proponentes', 'hacemos', 'integrantes', 'fue', 'permiten', 'eddy', 'últimos', 'existió', 'situaciones', 'habitantes', 'detallarán', 'coincido', 'supervivientes', 'lograba', 'cootad', 'contienen', 'condiciones', 'propone', 'tenemos', 'señalando', 'aplicó', 'entregarse',  'establecía', 'entregan', 'tratarse', 'civiles', 'conducentes', 'organismos', 'abogados', 'consta', 'diaz', 'tengo', 'remita', 'equivocada', 'incrementen', 'quería', 'constatado', 'hayan', 'acogemos', 'insistiendo', 'incorporaron', 'solicito', 'decidiría', 'cumpliendo', 'operacionales', 'manteniéndose', 'enmendarla', 'finalización', 'solucionando', 'sean', 'alturas', 'concejalas', 'periodo', 'convoquemos', 'pedirle', 'iban', 'estén', 'vigentes', 'daniela', 'solicitaría', 'topamos', 'temas', 'tukuilla', 'limitaciones', 'fechas', 'káren', 'compañeras', 'habernos', 'daños', 'emitieron', 'actualiza', 'concluye', 'logremos', 'decisiones', 'complicaba', 'resolverá', 'disponibilidad', 'sobrepasa', 'todos', 'fases', 'sm', 'sigue', 'tengamos', 'considerará', 'hay', 'autorizará', 'elementos', 'desvirtuada', 'dr', 'ganamos', 'disponga', 'acogidas', 'terminemos', 'decían', 'identifica', 'pudieran', 'sesiones', 'dicen', 'llevado', 'genera', 'podría', 'detalles', 'representantes', 'pertinentes', 'gravísimo', 'pareciera', 'aclaramos', 'vayan', 'tendientes', 'logrado', 'caeríamos', 'sec', 'encaminada', 'ratificada', 'poniendo', 'asociarse', 'existe', 'cevallos', 'taxistas', 'circulando', 'muchísimo', 'continúan', 'dictando', 'concluido', 'recoge', 'clarísimo', 'varias', 'infraestructura', 'emitirá', 'darnos', 'cumplamos', 'desprende', 'ustedes', 'aquejan', 'dejó', 'corresponden', 'kaj', 'limite', 'decimos', 'servicios', 'algunas', 'define', 'politica', 'acogiendo', 'posteriores', 'transcurrido', 'constaba', 'cooperativas', 'solicitó', 'unos', 'ordenanzas', 'hizo', 'habían', 'ponce', 'entregadas', 'contrató', 'encontramos', 'estaba', 'leerle', 'gracias', 'desfase', 'anteriores', 'reapertura', 'vería', 'almuercen', 'retome', 'tenido', 'amparado', 'aceptada', 'siguientes', 'instala', 'vertido', 'discutidos', 'logre', 'voy', 'resolviéramos', 'páez', 'presentes', 'nombres', 'incluidas', 'vehículos', 'comercial', 'informática', 'unas', 'demostrarlo', 'resuelva', 'diga', 'hicimos', 'será', 'hacen', 'correos', 'señoras', 'realizado', 'necesito', 'habrá', 'merecen', 'renato', 'ios', 'soy', 'pueda', 'acaba', 'control', 'analizado', 'hablo', 'reformas', 'justificando', 'básicamente', 'asignables', 'plazos', 'incluyó', 'procede', 'pendientes', 'considere', 'sobredimensionar', 'sería', 'f', 'hubiesen', 'analizando', 'riesgos', 'estuvimos', 'votó', 'operadoras', 'exógenos', 'poblacional', 'todas', 'propongo', 'tiempos', 'viteri', 'incrementos', 'sociales', 'dará', 'corresponde', 'aplicantes', 'implica', 'revisado', 'competentes', 'darse', 'carecen', 'aspectos', 'sánchez', 'contempladas', 'emite', 'cosas', 'entregó', 'quede', 'están', 'concluyo', 'miembros', 'órganos', 'coincidimos', 'deshace', 'levantamos', 'permitido', 'da', 'tiene', 'hubo', 'procure', 'teniendo', 'renata', 'solicitado', 'entrecomillas', 'haciendo', 'administrativas', 'sumak', 'meses', 'den',  'dejamos', 'legales', 'otorgados', 'utilizado', 'dichos', 'buenos', 'requisitos', 'responda', 'sm20102019', 'tendríamos', 'inquietudes', 'efectuada', 'incorporaciones', 'días', 'direccionar', 'corregirse', 'habilitaciones', 'sumarme', 'varios', 'queden', 'incorporadas', 'damos', \n",
    "               'aplicando', 'lic', 'tienen', 'qué', 'plantearlo', 'existen', 'abg',  'presenta', 'dispuso', 'recogen', 'serían', \n",
    "               'estipulado', 'denunciados', 'aprobamos', 'restantes', 'derechos', 'posibilita', 'demorado', 'sobrevenido', 'realizará', \n",
    "               'vive', 'formando', 'considera', 'agentes', 'conocen', 'haga', 'años', 'datos', 'dice', 'contraviene', 'tomando', \n",
    "               'actividades', 'títulos', 'veces', 'cuánto', 'benalcazar', 'estimaba', 'inmersos', 'citando', 'puedan', 'aún', 'anotó', \n",
    "               'cuáles', 'comparto', 'digo', 'algunos', 'expedientes', 'tienes', 'vacío', 'emitido', 'subsanados', 'casares', \n",
    "               'dimensionado', 'acompañan', 'cumpla', 'postergado', 'parámetros', 'someta', 'medidas', 'minutos', 'gissela', 'lecturas', \n",
    "               'permitamos']\n",
    "\n",
    "\n",
    "# Define the regex pattern\n",
    "time_pattern = r'[01][0-9]|2[0-3][Hh][0-5][0-9]'\n",
    "\n",
    "# Find all matches in the text\n",
    "time_stamps = re.findall(time_pattern, text_for_clean)\n",
    "print(time_stamps)\n"
   ]
  },
  {
   "cell_type": "code",
   "execution_count": null,
   "metadata": {},
   "outputs": [],
   "source": [
    "\n",
    "for word in custom_words:\n",
    "    spell.word_frequency.add(word)\n",
    "\n",
    "# Preprocess the text to separate punctuation from words\n",
    "cleaned_text = re.sub(r'[^\\w\\s]', '', text_for_clean)\n",
    "\n",
    "# Split the cleaned text into words\n",
    "words = cleaned_text.split()\n",
    "\n",
    "# Find misspelled words\n",
    "misspelled = spell.unknown(words)\n",
    "\n",
    "# Print misspelled words\n",
    "print(misspelled)"
   ]
  },
  {
   "cell_type": "markdown",
   "metadata": {},
   "source": [
    "### Search for Spanish non-conformity words with NLTK dictionary"
   ]
  },
  {
   "cell_type": "code",
   "execution_count": null,
   "metadata": {},
   "outputs": [],
   "source": [
    "import nltk\n",
    "nltk.download('cess_esp')  # CESS Spanish corpus"
   ]
  },
  {
   "cell_type": "code",
   "execution_count": null,
   "metadata": {},
   "outputs": [],
   "source": [
    "from nltk.corpus import cess_esp\n",
    "\n",
    "# Extract words from the CESS Spanish corpus\n",
    "spanish_words = set(cess_esp.words())"
   ]
  },
  {
   "cell_type": "code",
   "execution_count": null,
   "metadata": {},
   "outputs": [],
   "source": [
    "def is_spanish_word(word, dictionary):\n",
    "    return word.lower() in dictionary\n",
    "\n",
    "words = text_string.split() #\n",
    "\n",
    "for word in words:\n",
    "    if not is_spanish_word(word, spanish_words):\n",
    "        print(f\"'{word}' is not a valid Spanish word.\")\n"
   ]
  },
  {
   "cell_type": "markdown",
   "metadata": {},
   "source": [
    "### Using Regex"
   ]
  },
  {
   "cell_type": "code",
   "execution_count": null,
   "metadata": {},
   "outputs": [],
   "source": [
    "import re\n",
    "\n",
    "# Identify mixed-case words\n",
    "mixed_case_words = re.findall(r'\\b[a-zA-Z]*[a-z][A-Z]|[A-Z][a-z][a-zA-Z]*\\b', text_string)\n",
    "print(f\" Unusual words  found: {mixed_case_words}\")\n",
    "\n",
    "# Identify repeated patterns\n",
    "repeated_pattern = re.findall(r'\\b(?:\\w{2,}\\W+|\\W+\\w{2,}){2,}\\b', text_string)\n",
    "\n",
    "print(f\" patterns found: {repeated_pattern}\")\n"
   ]
  },
  {
   "cell_type": "markdown",
   "metadata": {},
   "source": [
    "## Chunks Splitting"
   ]
  },
  {
   "cell_type": "code",
   "execution_count": 14,
   "metadata": {},
   "outputs": [
    {
     "name": "stdout",
     "output_type": "stream",
     "text": [
      "Word count: 2612\n",
      "\n",
      "--------------------------------------------------\n",
      "\n",
      "Word count: 2510\n",
      "\n",
      "--------------------------------------------------\n",
      "\n",
      "Word count: 2619\n",
      "\n",
      "--------------------------------------------------\n",
      "\n",
      "Word count: 2568\n",
      "\n",
      "--------------------------------------------------\n",
      "\n",
      "Word count: 207\n",
      "\n",
      "--------------------------------------------------\n",
      "\n"
     ]
    }
   ],
   "source": [
    "import numpy as np\n",
    "\n",
    "text = text_string\n",
    "\n",
    "# Split the text into paragraphs\n",
    "paragraphs = text.split('\\n\\n')\n",
    "\n",
    "# Calculate the total number of words\n",
    "total_words = sum(len(paragraph.split()) for paragraph in paragraphs)\n",
    "chunk_size = int(np.ceil(total_words / 4))  # Determine the size of each chunk\n",
    "\n",
    "# Step 3: Distribute paragraphs into chunks\n",
    "chunks = []\n",
    "current_chunk = []\n",
    "current_chunk_word_count = 0\n",
    "\n",
    "for paragraph in paragraphs:\n",
    "    paragraph_word_count = len(paragraph.split())\n",
    "    \n",
    "    # If adding this paragraph to the current chunk exceeds the chunk size, start a new chunk\n",
    "    if current_chunk_word_count + paragraph_word_count > chunk_size and current_chunk:\n",
    "        chunks.append('\\n\\n'.join(current_chunk))\n",
    "        current_chunk = []\n",
    "        current_chunk_word_count = 0\n",
    "    \n",
    "    current_chunk.append(paragraph)\n",
    "    current_chunk_word_count += paragraph_word_count\n",
    "\n",
    "# Add the last chunk\n",
    "if current_chunk:\n",
    "    chunks.append('\\n\\n'.join(current_chunk))\n",
    "\n",
    "# Step 4: Count words in each chunk\n",
    "word_counts = [len(chunk.split()) for chunk in chunks]\n",
    "\n",
    "# Output the chunks and their word counts\n",
    "for i, chunk_text in enumerate(chunks):\n",
    "    print(f\"Word count: {word_counts[i]}\")\n",
    "    print(\"\\n\" + \"-\"*50 + \"\\n\")\n",
    "\n"
   ]
  },
  {
   "cell_type": "markdown",
   "metadata": {},
   "source": [
    "## Saving to text format"
   ]
  },
  {
   "cell_type": "code",
   "execution_count": 15,
   "metadata": {},
   "outputs": [
    {
     "name": "stdout",
     "output_type": "stream",
     "text": [
      "Text extraction completed and saved to 'extracted_text_no_headers_footers_clean_vers_001.txt'.\n"
     ]
    }
   ],
   "source": [
    "\n",
    "# Extract text by blocks and save to a file, excluding headers and footers\n",
    "with open(\"extracted_text_no_headers_footers_clean_vers_001.txt\", \"w\", encoding=\"utf-8\") as text_file:\n",
    " \n",
    "    text_file.write(text_string)  # Write the block text to the file, with spacing between blocks\n",
    "\n",
    "print(\"Text extraction completed and saved to 'extracted_text_no_headers_footers_clean_vers_001.txt'.\")\n"
   ]
  },
  {
   "cell_type": "markdown",
   "metadata": {},
   "source": [
    "### Saving to text format in chunks"
   ]
  },
  {
   "cell_type": "code",
   "execution_count": 17,
   "metadata": {},
   "outputs": [
    {
     "name": "stdout",
     "output_type": "stream",
     "text": [
      "Text extraction completed and saved to designated directory.\n",
      "Text extraction completed and saved to designated directory.\n",
      "Text extraction completed and saved to designated directory.\n",
      "Text extraction completed and saved to designated directory.\n",
      "Text extraction completed and saved to designated directory.\n"
     ]
    }
   ],
   "source": [
    "for i, chunk_text in enumerate(chunks):    \n",
    "\n",
    "    with open(f\"chunk_{i}.txt\", \"w\", encoding=\"utf-8\") as text_file:\n",
    " \n",
    "        text_file.write(chunk_text)  # Write the block text to the file, with spacing between blocks\n",
    "\n",
    "        print(\"Text extraction completed and saved to designated directory.\")"
   ]
  }
 ],
 "metadata": {
  "kernelspec": {
   "display_name": "venv",
   "language": "python",
   "name": "python3"
  },
  "language_info": {
   "codemirror_mode": {
    "name": "ipython",
    "version": 3
   },
   "file_extension": ".py",
   "mimetype": "text/x-python",
   "name": "python",
   "nbconvert_exporter": "python",
   "pygments_lexer": "ipython3",
   "version": "3.10.4"
  }
 },
 "nbformat": 4,
 "nbformat_minor": 2
}
