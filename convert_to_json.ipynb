{
 "cells": [
  {
   "cell_type": "code",
   "execution_count": 1,
   "metadata": {},
   "outputs": [
    {
     "name": "stdout",
     "output_type": "stream",
     "text": [
      "{'date': '07-11-23', 'document_id': 'acta_030', 'text': {'## **Nombre del acta:**': 'ACTA DE LA SESIÓN No. 030 ORDINARIA DEL CONCEJO METROPOLITANO DE QUITO, DE 07 DE NOVIEMBRE DE 2023', '## **Fecha:**': '07 de noviembre de 2023', '## **Temas tratados:**': ['Seguimiento de procesos judiciales relacionados con la inseguridad en Quito.', 'Cambio de categoría de un bien municipal y donación a SENESCYT para infraestructura educativa.', 'Primer debate del Proyecto de Ordenanza Metropolitana del Fomento del Comercio Justo y Consumo Responsable.', 'Segundo debate de la Ordenanza para la Regularización Vial de calles en Conocoto.'], '## **Problemas:**': ['Inseguridad en la ciudad, reflejada en eventos de terrorismo.', 'Falta de infraestructura educativa en el sur de Quito.', 'Necesidad de un marco regulatorio para el comercio justo y responsable.'], '## **Peticiones:**': ['Que se informe sobre el seguimiento de los casos de inseguridad.', 'Considerar un plazo para la ejecución del proyecto de infraestructura educativa.', 'Inclusión de observaciones sobre la propuesta de ordenanza de comercio justo.'], '## **Soluciones o acuerdos:**': ['Aprobación del seguimiento a procesos judiciales por el Procurador Metropolitano.', 'Aprobación del cambio de categoría del predio para la donación a SENESCYT.', 'Se acordó trabajar en el proyecto de ordenanza de comercio justo en comisiones conjuntas.', 'El proyecto de regularización vial regresará a la Comisión de Uso de Suelo para ser fortalecido.'], '## **Asistentes:**': ['Pabel Muñoz López (Alcalde)', 'Fernanda Racines Corredores (Vicealcaldesa)', 'Andrés Campaña Remache', 'Estefanía Grunauer Reinoso', 'Bernardo Abad Merchán', 'Blanca Paucar Paucar', 'Fidel Chamba Vozmediano', 'Diana Cruz Murillo', 'Héctor Cueva Cueva', 'Gabriel Noroña Díaz', 'Emilio Uzcátegui Jiménez', 'Adrián Ibarra González', 'Juan Báez Bulla', 'Wilson Merino Rivadeneira', 'Robin Armijos Coloma', 'Sagrario de Jesús Angulo (Silla Vacía)', 'Cristina López Gómez de la Torre', 'Sandra Hidalgo Espinel', 'Joselyn Mayorga Salazar', 'Michael Aulestia Salazar', 'Darío Cahueñas Apunte', 'Ángel Vega']}, 'document_url': 'https://www7.quito.gob.ec/mdmq_ordenanzas/Administraci%C3%B3n%202023-2027/Actas%20Sesiones/2023/Acta%20Sesi%C3%B3n%20Ordinaria%20No.%20030%202023-11-07.pdf'}\n"
     ]
    }
   ],
   "source": [
    "import json\n",
    "\n",
    "with open(r\"work_on_minutes\\acta_07_noviembre_2023\\response_summary_TOTAL_vers002_formatted.txt\", encoding=\"utf-8\") as text_file:\n",
    " \n",
    "    hopefully_dict = text_file.read()  \n",
    "\n",
    "# Convert the content to a dictionary\n",
    "try:\n",
    "    response_summary_dict = json.loads(hopefully_dict)\n",
    "    # Add a new key-value pair to the dictionary\n",
    "    response_summary_dict[\"document_url\"] = \"https://www7.quito.gob.ec/mdmq_ordenanzas/Administraci%C3%B3n%202023-2027/Actas%20Sesiones/2023/Acta%20Sesi%C3%B3n%20Ordinaria%20No.%20030%202023-11-07.pdf\"\n",
    "\n",
    "    print(response_summary_dict)\n",
    "    \n",
    "except json.JSONDecodeError as e:\n",
    "    print(f\"Error decoding JSON: {e}\")"
   ]
  },
  {
   "cell_type": "code",
   "execution_count": 2,
   "metadata": {},
   "outputs": [
    {
     "name": "stdout",
     "output_type": "stream",
     "text": [
      "Text extraction completed and saved as JSON.\n"
     ]
    }
   ],
   "source": [
    "\n",
    "# Write the JSON data to a new file\n",
    "with open(r\"work_on_minutes\\acta_07_noviembre_2023\\response_summary_TOTAL_vers002.json\", \"w\", encoding=\"utf-8\") as json_file:\n",
    "    json.dump(response_summary_dict, json_file, ensure_ascii=False, indent=4)\n",
    "\n",
    "print(\"Text extraction completed and saved as JSON.\")"
   ]
  }
 ],
 "metadata": {
  "kernelspec": {
   "display_name": "venv",
   "language": "python",
   "name": "python3"
  },
  "language_info": {
   "codemirror_mode": {
    "name": "ipython",
    "version": 3
   },
   "file_extension": ".py",
   "mimetype": "text/x-python",
   "name": "python",
   "nbconvert_exporter": "python",
   "pygments_lexer": "ipython3",
   "version": "3.10.4"
  }
 },
 "nbformat": 4,
 "nbformat_minor": 2
}
