{
 "cells": [
  {
   "cell_type": "code",
   "execution_count": null,
   "metadata": {},
   "outputs": [],
   "source": [
    "encoding = tiktoken.encoding_for_model(\"gpt-4o-mini\")\n",
    "\n",
    "# Instruction text\n",
    "instruction_bold = \"\"\"Eres un asistente que identifica informacion importante en resumenes de las actas de sesiones del Concejo Metropolitano de Quito con el objetivo de entregar informacion relevante a los ciudadanos.\n",
    "      - Identifica solo las partes más importantes discutidas en la sesión dentro de \"content\"\n",
    "      -Devuelve exactamente el mismo texto con la misma estructura, pero con las partes importantes en formato negrita markdown, sin cambiar nada mas que el peso del texto\n",
    "    \"\"\"\n",
    "# Encode the text\n",
    "instruction_tokens = encoding.encode(instruction_bold)\n",
    "\n",
    "# Count the number of tokens\n",
    "num_tokens = len(instruction_tokens)\n",
    "\n",
    "print(f\"Number of tokens: {num_tokens}\")"
   ]
  },
  {
   "cell_type": "code",
   "execution_count": null,
   "metadata": {},
   "outputs": [],
   "source": [
    "response = client.chat.completions.create(\n",
    "    model = \"gpt-4o-mini\",\n",
    "    messages = [\n",
    "        {\"role\": \"system\", \"content\" : instruction_bold},\n",
    "        {\"role\":\"user\", \"content\":response_summary_vers001},\n",
    "    ],\n",
    "    temperature = 0.70,\n",
    "    max_tokens = 1800,\n",
    ")"
   ]
  },
  {
   "cell_type": "code",
   "execution_count": null,
   "metadata": {},
   "outputs": [],
   "source": [
    "summary_formatted= response.choices[0].message.content\n",
    "print(summary_formatted)"
   ]
  },
  {
   "cell_type": "markdown",
   "metadata": {},
   "source": [
    "### First zero-shot Approach"
   ]
  },
  {
   "cell_type": "code",
   "execution_count": null,
   "metadata": {},
   "outputs": [],
   "source": [
    "#token encoding for the instruction\n",
    "\n",
    "# Load the encoding for the specific model you're using\n",
    "encoding = tiktoken.encoding_for_model(\"gpt-4o-mini\")    \n",
    "\n",
    "# Instruction text\n",
    "full_instruction = \"\"\"Has un resumen de una minuta de reunión de un gobierno local con las siguientes instrucciones:\n",
    "-  Enfatiza los principales temas que se hablaron en la sesion, problemas, peticiones y soluciones o acuerdos que se llegan, indicando los nombres de las personas que participan cuando sea necesario.\n",
    "    - Provee datos concretos y no des detalles irrelevantes\n",
    "    - No emitas juicios de valor\n",
    "    - Integra las secciones por tema si estos se parecen entre sí\n",
    "  -   Envía la información con la siguiente estructura\n",
    "      {\n",
    "     \"date\" : \"yyyy-mm-dd\", \n",
    "     \"document_id\" : \"acta_0xx(numero_del_acta)\", \n",
    "     \"act_name\": \"Sesion (Ordinaria, Extraordinaria o Conmemorativa) No. (número de la sesion)\", \n",
    "     \"content:  [\" resumen de la sesion en donde se explique de manera fluida y clara con las instrucciones enviadas arriba con este formato 'Titulo 1: Resumen del tema 1','Titulo 2: Resumen del tema 2'...\"\"], \n",
    "    } \n",
    "    \"\"\"\n",
    "# Encode the text\n",
    "instruction_tokens = encoding.encode(full_instruction)\n",
    "\n",
    "# Count the number of tokens\n",
    "num_tokens = len(instruction_tokens)\n",
    "\n",
    "print(f\"Number of tokens: {num_tokens}\")"
   ]
  },
  {
   "cell_type": "markdown",
   "metadata": {},
   "source": [
    "### CoT approach"
   ]
  },
  {
   "cell_type": "code",
   "execution_count": null,
   "metadata": {},
   "outputs": [],
   "source": [
    "#token encoding for the instruction\n",
    "\n",
    "# Load the encoding for the specific model you're using\n",
    "encoding = tiktoken.encoding_for_model(\"gpt-4o-mini\")    \n",
    "\n",
    "# Instruction text\n",
    "full_instruction = \"\"\"Eres un asistente que resume minutas de reunión de un gobierno local con el objetivo de dar informacion relevante a la ciudadania\n",
    "Razona a través de los siguientes pasos:\n",
    "Paso 1: Identifica los temas principales tratados en la sesión. \n",
    "Paso 2: Integra en una sola oración todo lo relacionado a la instalación de la sesión, cuórum y lectura del orden del dia.\n",
    "Paso 3: Identifica problemas, peticiones y soluciones o acuerdos que se llegan, indicando los nombres de las personas que participan.\n",
    "Paso 4: Resume cada tema en un parrafo de 3-5 oraciones.  \n",
    "Paso 5: Unifica los temas que tengan relación en una sección. \n",
    "Paso 6: Coloca titulos sin numeracion en cada sección de acuerdo a los temas tratados. \n",
    "Paso 7: Escribe el resumen general de la sesión con fluencia y claridad. \n",
    "Paso 8: Envía la información con la siguiente estructura {\n",
    "     \"date\" : \"yyyy-mm-dd\", \n",
    "     \"document_id\" : \"acta_0xx(numero_del_acta)\", \n",
    "     \"act_name\": \"Sesión (Ordinaria, Extraordinaria o Commemorativa) No. (número de la sesion)\", \n",
    "     \"content\":  [\"resumen de la sesion con cada seccion con su titulo como un item diferente: 'Titulo 1: Resumen del tema 1','Titulo 2: Resumen del tema 2'...\"], \n",
    "    } \n",
    "    \"\"\"\n",
    "# Encode the text\n",
    "instruction_tokens = encoding.encode(full_instruction)\n",
    "\n",
    "# Count the number of tokens\n",
    "num_tokens = len(instruction_tokens)\n",
    "\n",
    "print(f\"Number of tokens: {num_tokens}\")"
   ]
  },
  {
   "cell_type": "markdown",
   "metadata": {},
   "source": []
  }
 ],
 "metadata": {
  "kernelspec": {
   "display_name": "venv",
   "language": "python",
   "name": "python3"
  },
  "language_info": {
   "name": "python",
   "version": "3.10.4"
  }
 },
 "nbformat": 4,
 "nbformat_minor": 2
}
