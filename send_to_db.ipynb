{
 "cells": [
  {
   "cell_type": "code",
   "execution_count": 3,
   "metadata": {},
   "outputs": [
    {
     "ename": "ImportError",
     "evalue": "cannot import name 'MutableMapping' from 'collections' (C:\\Users\\herms\\AppData\\Local\\Programs\\Python\\Python310\\lib\\collections\\__init__.py)",
     "output_type": "error",
     "traceback": [
      "\u001b[1;31m---------------------------------------------------------------------------\u001b[0m",
      "\u001b[1;31mImportError\u001b[0m                               Traceback (most recent call last)",
      "Cell \u001b[1;32mIn[3], line 3\u001b[0m\n\u001b[0;32m      1\u001b[0m \u001b[38;5;28;01mimport\u001b[39;00m \u001b[38;5;21;01mjson\u001b[39;00m\n\u001b[0;32m      2\u001b[0m \u001b[38;5;28;01mimport\u001b[39;00m \u001b[38;5;21;01mos\u001b[39;00m\n\u001b[1;32m----> 3\u001b[0m \u001b[38;5;28;01mfrom\u001b[39;00m \u001b[38;5;21;01mpymongo\u001b[39;00m \u001b[38;5;28;01mimport\u001b[39;00m MongoClient\n\u001b[0;32m      4\u001b[0m \u001b[38;5;28;01mfrom\u001b[39;00m \u001b[38;5;21;01mdotenv\u001b[39;00m \u001b[38;5;28;01mimport\u001b[39;00m load_dotenv\n\u001b[0;32m      5\u001b[0m load_dotenv(override\u001b[38;5;241m=\u001b[39m\u001b[38;5;28;01mTrue\u001b[39;00m)\n",
      "File \u001b[1;32mc:\\Users\\herms\\Desktop\\Civic_Tech_Research_Project\\PreliminarWork\\preprocessing\\venv\\lib\\site-packages\\pymongo\\__init__.py:77\u001b[0m\n\u001b[0;32m     74\u001b[0m __version__ \u001b[38;5;241m=\u001b[39m version \u001b[38;5;241m=\u001b[39m get_version_string()\n\u001b[0;32m     75\u001b[0m \u001b[38;5;124;03m\"\"\"Current version of PyMongo.\"\"\"\u001b[39;00m\n\u001b[1;32m---> 77\u001b[0m \u001b[38;5;28;01mfrom\u001b[39;00m \u001b[38;5;21;01mpymongo\u001b[39;00m\u001b[38;5;21;01m.\u001b[39;00m\u001b[38;5;21;01mcollection\u001b[39;00m \u001b[38;5;28;01mimport\u001b[39;00m ReturnDocument\n\u001b[0;32m     78\u001b[0m \u001b[38;5;28;01mfrom\u001b[39;00m \u001b[38;5;21;01mpymongo\u001b[39;00m\u001b[38;5;21;01m.\u001b[39;00m\u001b[38;5;21;01mcommon\u001b[39;00m \u001b[38;5;28;01mimport\u001b[39;00m (MIN_SUPPORTED_WIRE_VERSION,\n\u001b[0;32m     79\u001b[0m                             MAX_SUPPORTED_WIRE_VERSION)\n\u001b[0;32m     80\u001b[0m \u001b[38;5;28;01mfrom\u001b[39;00m \u001b[38;5;21;01mpymongo\u001b[39;00m\u001b[38;5;21;01m.\u001b[39;00m\u001b[38;5;21;01mcursor\u001b[39;00m \u001b[38;5;28;01mimport\u001b[39;00m CursorType\n",
      "File \u001b[1;32mc:\\Users\\herms\\Desktop\\Civic_Tech_Research_Project\\PreliminarWork\\preprocessing\\venv\\lib\\site-packages\\pymongo\\collection.py:22\u001b[0m\n\u001b[0;32m     19\u001b[0m \u001b[38;5;28;01mimport\u001b[39;00m \u001b[38;5;21;01mwarnings\u001b[39;00m\n\u001b[0;32m     21\u001b[0m \u001b[38;5;28;01mfrom\u001b[39;00m \u001b[38;5;21;01mbson\u001b[39;00m\u001b[38;5;21;01m.\u001b[39;00m\u001b[38;5;21;01mcode\u001b[39;00m \u001b[38;5;28;01mimport\u001b[39;00m Code\n\u001b[1;32m---> 22\u001b[0m \u001b[38;5;28;01mfrom\u001b[39;00m \u001b[38;5;21;01mbson\u001b[39;00m\u001b[38;5;21;01m.\u001b[39;00m\u001b[38;5;21;01mobjectid\u001b[39;00m \u001b[38;5;28;01mimport\u001b[39;00m ObjectId\n\u001b[0;32m     23\u001b[0m \u001b[38;5;28;01mfrom\u001b[39;00m \u001b[38;5;21;01mbson\u001b[39;00m\u001b[38;5;21;01m.\u001b[39;00m\u001b[38;5;21;01mpy3compat\u001b[39;00m \u001b[38;5;28;01mimport\u001b[39;00m (_unicode,\n\u001b[0;32m     24\u001b[0m                             integer_types,\n\u001b[0;32m     25\u001b[0m                             string_type)\n\u001b[0;32m     26\u001b[0m \u001b[38;5;28;01mfrom\u001b[39;00m \u001b[38;5;21;01mbson\u001b[39;00m\u001b[38;5;21;01m.\u001b[39;00m\u001b[38;5;21;01mraw_bson\u001b[39;00m \u001b[38;5;28;01mimport\u001b[39;00m RawBSONDocument\n",
      "File \u001b[1;32mc:\\Users\\herms\\Desktop\\Civic_Tech_Research_Project\\PreliminarWork\\preprocessing\\venv\\lib\\site-packages\\bson\\__init__.py:83\u001b[0m\n\u001b[0;32m     79\u001b[0m \u001b[38;5;28;01mfrom\u001b[39;00m \u001b[38;5;21;01mbson\u001b[39;00m\u001b[38;5;21;01m.\u001b[39;00m\u001b[38;5;21;01mbinary\u001b[39;00m \u001b[38;5;28;01mimport\u001b[39;00m (Binary, OLD_UUID_SUBTYPE,\n\u001b[0;32m     80\u001b[0m                          JAVA_LEGACY, CSHARP_LEGACY,\n\u001b[0;32m     81\u001b[0m                          UUIDLegacy)\n\u001b[0;32m     82\u001b[0m \u001b[38;5;28;01mfrom\u001b[39;00m \u001b[38;5;21;01mbson\u001b[39;00m\u001b[38;5;21;01m.\u001b[39;00m\u001b[38;5;21;01mcode\u001b[39;00m \u001b[38;5;28;01mimport\u001b[39;00m Code\n\u001b[1;32m---> 83\u001b[0m \u001b[38;5;28;01mfrom\u001b[39;00m \u001b[38;5;21;01mbson\u001b[39;00m\u001b[38;5;21;01m.\u001b[39;00m\u001b[38;5;21;01mcodec_options\u001b[39;00m \u001b[38;5;28;01mimport\u001b[39;00m (\n\u001b[0;32m     84\u001b[0m     CodecOptions, DEFAULT_CODEC_OPTIONS, _raw_document_class)\n\u001b[0;32m     85\u001b[0m \u001b[38;5;28;01mfrom\u001b[39;00m \u001b[38;5;21;01mbson\u001b[39;00m\u001b[38;5;21;01m.\u001b[39;00m\u001b[38;5;21;01mdbref\u001b[39;00m \u001b[38;5;28;01mimport\u001b[39;00m DBRef\n\u001b[0;32m     86\u001b[0m \u001b[38;5;28;01mfrom\u001b[39;00m \u001b[38;5;21;01mbson\u001b[39;00m\u001b[38;5;21;01m.\u001b[39;00m\u001b[38;5;21;01mdecimal128\u001b[39;00m \u001b[38;5;28;01mimport\u001b[39;00m Decimal128\n",
      "File \u001b[1;32mc:\\Users\\herms\\Desktop\\Civic_Tech_Research_Project\\PreliminarWork\\preprocessing\\venv\\lib\\site-packages\\bson\\codec_options.py:19\u001b[0m\n\u001b[0;32m     15\u001b[0m \u001b[38;5;124;03m\"\"\"Tools for specifying BSON codec options.\"\"\"\u001b[39;00m\n\u001b[0;32m     17\u001b[0m \u001b[38;5;28;01mimport\u001b[39;00m \u001b[38;5;21;01mdatetime\u001b[39;00m\n\u001b[1;32m---> 19\u001b[0m \u001b[38;5;28;01mfrom\u001b[39;00m \u001b[38;5;21;01mcollections\u001b[39;00m \u001b[38;5;28;01mimport\u001b[39;00m MutableMapping, namedtuple\n\u001b[0;32m     21\u001b[0m \u001b[38;5;28;01mfrom\u001b[39;00m \u001b[38;5;21;01mbson\u001b[39;00m\u001b[38;5;21;01m.\u001b[39;00m\u001b[38;5;21;01mpy3compat\u001b[39;00m \u001b[38;5;28;01mimport\u001b[39;00m string_type\n\u001b[0;32m     22\u001b[0m \u001b[38;5;28;01mfrom\u001b[39;00m \u001b[38;5;21;01mbson\u001b[39;00m\u001b[38;5;21;01m.\u001b[39;00m\u001b[38;5;21;01mbinary\u001b[39;00m \u001b[38;5;28;01mimport\u001b[39;00m (ALL_UUID_REPRESENTATIONS,\n\u001b[0;32m     23\u001b[0m                          PYTHON_LEGACY,\n\u001b[0;32m     24\u001b[0m                          UUID_REPRESENTATION_NAMES)\n",
      "\u001b[1;31mImportError\u001b[0m: cannot import name 'MutableMapping' from 'collections' (C:\\Users\\herms\\AppData\\Local\\Programs\\Python\\Python310\\lib\\collections\\__init__.py)"
     ]
    }
   ],
   "source": [
    "import json\n",
    "import os\n",
    "from pymongo import MongoClient\n",
    "from dotenv import load_dotenv\n",
    "load_dotenv(override=True)\n",
    "db_url = os.environ[\"DATABASE_URL\"]"
   ]
  },
  {
   "cell_type": "code",
   "execution_count": null,
   "metadata": {},
   "outputs": [],
   "source": [
    "client = MongoClient(db_url)\n",
    "db = client[\"cv_tech\"]\n",
    "collection = db[\"Summary\"]\n",
    "client.admin.command('ping')"
   ]
  },
  {
   "cell_type": "code",
   "execution_count": 12,
   "metadata": {},
   "outputs": [
    {
     "name": "stdout",
     "output_type": "stream",
     "text": [
      "{'date': '2024-08-02', 'document_id': 'acta_077', 'act_name': 'Sesión Conmemorativa de Concejo No. 077', 'content': ['La Sesión Conmemorativa de Concejo No. 077 se llevó a cabo el 2 de agosto de 2024, a las 10:17, con la asistencia de 16 concejales presentes, constatando el cuórum necesario para su instalación. La sesión fue dirigida por el Alcalde del Distrito Metropolitano de Quito, Pabel Muñoz López, y tuvo como principal motivo la conmemoración de la \"Matanza de los Próceres del Primer Grito de Independencia\". ', 'Durante la sesión, se destacó el discurso de la Concejala Metropolitana, Joselyn Mayorga Salazar, quien enfatizó la importancia de recordar la participación de las mujeres en el proceso independentista y la lucha por la justicia y la libertad. Mayorga subrayó que, a pesar de los intentos de invisibilizar la historia de estas mujeres, su legado sigue vigente en la lucha actual por los derechos. Hizo un llamado a la unidad y al trabajo colectivo en la política para lograr un cambio significativo en la sociedad quiteña.', 'El Alcalde Pabel Muñoz López, en su intervención, hizo eco de la importancia de interpretar la historia a la luz de los desafíos contemporáneos, señalando que la violencia y la represión no pueden anular los ideales de justicia y libertad que caracterizan a la ciudad. Resaltó la necesidad de abordar problemáticas actuales como el desempleo y la inseguridad, instando a los concejales a trabajar en unidad por el bienestar de la ciudadanía.', 'La sesión concluyó con el Himno a Quito y fue clausurada por la Secretaria General, Dra. Libia Rivas Ordóñez, a las 10:45. El evento se desarrolló de manera presencial y fue transmitido a la ciudadanía a través de diferentes medios.'], 'document_url': 'https://www7.quito.gob.ec/mdmq_ordenanzas/Administraci%C3%B3n%202023-2027/Actas%20Sesiones/2024/ACTA%2070%20SESIO%CC%81N%20EXTRAORDINARIA%20DE%2024%20DE%20JUNIO%20DE%202024-signed.pdf'}\n"
     ]
    }
   ],
   "source": [
    "with open(r\"work_on_minutes\\acta_02_08_2024\\response_summary_TOTAL_vers002.json\", encoding=\"utf-8\") as text_file:\n",
    " \n",
    "    hopefully_dict = text_file.read()  \n",
    "\n",
    "# Convert the content to a dictionary\n",
    "try:\n",
    "    response_summary_dict = json.loads(hopefully_dict)\n",
    "    # Add a new key-value pair to the dictionary\n",
    "    response_summary_dict[\"document_url\"] = \"https://www7.quito.gob.ec/mdmq_ordenanzas/Administraci%C3%B3n%202023-2027/Actas%20Sesiones/2024/ACTA%2070%20SESIO%CC%81N%20EXTRAORDINARIA%20DE%2024%20DE%20JUNIO%20DE%202024-signed.pdf\"\n",
    "\n",
    "    print(response_summary_dict)\n",
    "    \n",
    "    \n",
    "except json.JSONDecodeError as e:\n",
    "    print(f\"Error decoding JSON: {e}\")"
   ]
  },
  {
   "cell_type": "code",
   "execution_count": null,
   "metadata": {},
   "outputs": [],
   "source": [
    "try:\n",
    "    result = collection.insert_one(response_summary_dict)\n",
    "    \n",
    "    print(f\"Inserted document ID: {result.inserted_id}\")\n",
    "except json.JSONDecodeError as e:\n",
    "    print(f\"Error decoding JSON: {e}\")"
   ]
  },
  {
   "cell_type": "markdown",
   "metadata": {},
   "source": [
    "## Old Approaches"
   ]
  },
  {
   "cell_type": "code",
   "execution_count": null,
   "metadata": {},
   "outputs": [],
   "source": [
    "from pprint import pprint\n",
    "pprint(response.text)"
   ]
  },
  {
   "cell_type": "code",
   "execution_count": 13,
   "metadata": {},
   "outputs": [
    {
     "name": "stdout",
     "output_type": "stream",
     "text": [
      "Text extraction completed and saved as JSON.\n"
     ]
    }
   ],
   "source": [
    "\n",
    "# Write the JSON data to a new file\n",
    "#CHANGE THIS FILE NAME\n",
    "with open(r\"json_files\\02_08_2024_summary_vers003.json\", \"w\", encoding=\"utf-8\") as json_file: #CHANGE THIS FILE NAME\n",
    "    json.dump(response_summary_dict, json_file, ensure_ascii=False, indent=4)\n",
    "\n",
    "print(\"Text extraction completed and saved as JSON.\")"
   ]
  }
 ],
 "metadata": {
  "kernelspec": {
   "display_name": "venv",
   "language": "python",
   "name": "python3"
  },
  "language_info": {
   "codemirror_mode": {
    "name": "ipython",
    "version": 3
   },
   "file_extension": ".py",
   "mimetype": "text/x-python",
   "name": "python",
   "nbconvert_exporter": "python",
   "pygments_lexer": "ipython3",
   "version": "3.10.4"
  }
 },
 "nbformat": 4,
 "nbformat_minor": 2
}
