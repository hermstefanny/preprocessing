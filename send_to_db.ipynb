{
 "cells": [
  {
   "cell_type": "code",
   "execution_count": 18,
   "metadata": {},
   "outputs": [],
   "source": [
    "import json\n",
    "import os\n",
    "from pymongo import MongoClient\n",
    "from dotenv import load_dotenv\n",
    "load_dotenv(override=True)\n",
    "db_url = os.environ[\"DATABASE_URL\"]"
   ]
  },
  {
   "cell_type": "code",
   "execution_count": 19,
   "metadata": {},
   "outputs": [
    {
     "data": {
      "text/plain": [
       "{'ok': 1}"
      ]
     },
     "execution_count": 19,
     "metadata": {},
     "output_type": "execute_result"
    }
   ],
   "source": [
    "client = MongoClient(db_url)\n",
    "db = client[\"cv_tech\"]\n",
    "collection = db[\"Summary\"]\n",
    "client.admin.command('ping')"
   ]
  },
  {
   "cell_type": "code",
   "execution_count": 21,
   "metadata": {},
   "outputs": [],
   "source": [
    "with open(r\"C:\\Users\\herms\\Desktop\\Civic_Tech_Research_Project\\PreliminarWork\\preprocessing\\data\\2024\\acta_02_04_2024\\response_summary_TOTAL_vers001.json\", encoding=\"utf-8\") as text_file:\n",
    " \n",
    "    hopefully_dict = text_file.read()  \n",
    "    response_summary_dict = json.loads(hopefully_dict)\n"
   ]
  },
  {
   "cell_type": "code",
   "execution_count": 22,
   "metadata": {},
   "outputs": [
    {
     "name": "stdout",
     "output_type": "stream",
     "text": [
      "{'date': '2024-04-02', 'document_id': 'acta_055', 'act_name': 'Sesión Ordinaria de Concejo No. 055', 'content': [\"En la sesión ordinaria del Concejo Metropolitano de Quito celebrada el 2 de abril de 2024, se abordaron diversos temas. Se verificó el cuórum con la presencia de 14 concejales al inicio, incrementando a 18 durante la sesión. Uno de los temas principales fue la presentación de la 'Agenda Feminista de Quito' expuesta por María de Lourdes Quishpe Pazmiño, Coordinadora de la Plataforma de Mujeres Caminando hacia la Igualdad. Se discutieron problemáticas como la necesidad de un Sistema Integral de Cuidados, el hábitat sostenible y la regularización de barrios, así como la urgencia de atender la violencia de género y la igualdad salarial. Las concejalas y concejales expresaron su apoyo a la agenda y propusieron que sea la Comisión de Igualdad, Género e Inclusión Social quien supervise su implementación.\", 'Otro tema significativo fue la presentación de la matriz de identificación de placas conmemorativas en obras públicas, donde se identificaron 241 placas que incumplen con la resolución sobre la inclusión de nombres de servidores públicos en estas. El Administrador General, Christian Cruz Rodríguez, explicó que se procederá al retiro de dichas placas.', 'Finalmente, se presentó un informe sobre la calidad de alimentos vendidos en el parque La Carolina, donde se analizaron 29 muestras, encontrándose que 19 no cumplían con los parámetros de seguridad alimentaria. La Secretaria de Salud, Marysol Ruilova, expuso que el control de alimentos es parte de las competencias del Municipio en coordinación con el Gobierno Nacional, y se destacó la necesidad de un mayor control sobre el comercio informal. Las intervenciones de los concejales manifestaron preocupaciones sobre la salud pública y la responsabilidad de los comerciantes en el expendio de alimentos.', 'Se acordó seguir trabajando en la implementación de la agenda feminista y en las medidas necesarias para mejorar la calidad de los alimentos en el ámbito de la salud pública.'], 'document_url': 'https://www7.quito.gob.ec/mdmq_ordenanzas/Administraci%C3%B3n%202023-2027/Actas%20Sesiones/2024/ACTA%2055%20ORDINARIA%20DE%2002%20DE%20ABRIL%20DE%202024.pdf'}\n"
     ]
    }
   ],
   "source": [
    "\n",
    "# Convert the content to a dictionary\n",
    "try:\n",
    "    response_summary_dict = json.loads(hopefully_dict)\n",
    "    # Add a new key-value pair to the dictionary\n",
    "    response_summary_dict[\"document_url\"] = \"https://www7.quito.gob.ec/mdmq_ordenanzas/Administraci%C3%B3n%202023-2027/Actas%20Sesiones/2024/ACTA%2055%20ORDINARIA%20DE%2002%20DE%20ABRIL%20DE%202024.pdf\"\n",
    "\n",
    "    print(response_summary_dict)\n",
    "    \n",
    "    \n",
    "except json.JSONDecodeError as e:\n",
    "    print(f\"Error decoding JSON: {e}\")"
   ]
  },
  {
   "cell_type": "code",
   "execution_count": 23,
   "metadata": {},
   "outputs": [
    {
     "name": "stdout",
     "output_type": "stream",
     "text": [
      "Inserted document ID: 67191bae31e2ccd7458fc330\n"
     ]
    }
   ],
   "source": [
    "try:\n",
    "    result = collection.insert_one(response_summary_dict)\n",
    "    \n",
    "    print(f\"Inserted document ID: {result.inserted_id}\")\n",
    "except json.JSONDecodeError as e:\n",
    "    print(f\"Error decoding JSON: {e}\")"
   ]
  },
  {
   "cell_type": "markdown",
   "metadata": {},
   "source": [
    "## Old Approaches"
   ]
  },
  {
   "cell_type": "code",
   "execution_count": null,
   "metadata": {},
   "outputs": [],
   "source": [
    "from pprint import pprint\n",
    "pprint(response.text)"
   ]
  },
  {
   "cell_type": "code",
   "execution_count": 10,
   "metadata": {},
   "outputs": [
    {
     "ename": "FileNotFoundError",
     "evalue": "[Errno 2] No such file or directory: '\\\\data\\\\json_files\\\\02_08_2024_summary_vers003.json'",
     "output_type": "error",
     "traceback": [
      "\u001b[1;31m---------------------------------------------------------------------------\u001b[0m",
      "\u001b[1;31mFileNotFoundError\u001b[0m                         Traceback (most recent call last)",
      "Cell \u001b[1;32mIn[10], line 3\u001b[0m\n\u001b[0;32m      1\u001b[0m \u001b[38;5;66;03m# Write the JSON data to a new file\u001b[39;00m\n\u001b[0;32m      2\u001b[0m \u001b[38;5;66;03m#CHANGE THIS FILE NAME\u001b[39;00m\n\u001b[1;32m----> 3\u001b[0m \u001b[38;5;28;01mwith\u001b[39;00m \u001b[38;5;28;43mopen\u001b[39;49m\u001b[43m(\u001b[49m\u001b[38;5;124;43mr\u001b[39;49m\u001b[38;5;124;43m\"\u001b[39;49m\u001b[38;5;124;43m\\\u001b[39;49m\u001b[38;5;124;43mdata\u001b[39;49m\u001b[38;5;124;43m\\\u001b[39;49m\u001b[38;5;124;43mjson_files\u001b[39;49m\u001b[38;5;124;43m\\\u001b[39;49m\u001b[38;5;124;43m02_08_2024_summary_vers003.json\u001b[39;49m\u001b[38;5;124;43m\"\u001b[39;49m\u001b[43m,\u001b[49m\u001b[43m \u001b[49m\u001b[38;5;124;43m\"\u001b[39;49m\u001b[38;5;124;43mw\u001b[39;49m\u001b[38;5;124;43m\"\u001b[39;49m\u001b[43m,\u001b[49m\u001b[43m \u001b[49m\u001b[43mencoding\u001b[49m\u001b[38;5;241;43m=\u001b[39;49m\u001b[38;5;124;43m\"\u001b[39;49m\u001b[38;5;124;43mutf-8\u001b[39;49m\u001b[38;5;124;43m\"\u001b[39;49m\u001b[43m)\u001b[49m \u001b[38;5;28;01mas\u001b[39;00m json_file: \u001b[38;5;66;03m#CHANGE THIS FILE NAME\u001b[39;00m\n\u001b[0;32m      4\u001b[0m     json\u001b[38;5;241m.\u001b[39mdump(response_summary_dict, json_file, ensure_ascii\u001b[38;5;241m=\u001b[39m\u001b[38;5;28;01mFalse\u001b[39;00m, indent\u001b[38;5;241m=\u001b[39m\u001b[38;5;241m4\u001b[39m)\n\u001b[0;32m      6\u001b[0m \u001b[38;5;28mprint\u001b[39m(\u001b[38;5;124m\"\u001b[39m\u001b[38;5;124mText extraction completed and saved as JSON.\u001b[39m\u001b[38;5;124m\"\u001b[39m)\n",
      "File \u001b[1;32mc:\\Users\\herms\\Desktop\\Civic_Tech_Research_Project\\PreliminarWork\\preprocessing\\venv\\lib\\site-packages\\IPython\\core\\interactiveshell.py:324\u001b[0m, in \u001b[0;36m_modified_open\u001b[1;34m(file, *args, **kwargs)\u001b[0m\n\u001b[0;32m    317\u001b[0m \u001b[38;5;28;01mif\u001b[39;00m file \u001b[38;5;129;01min\u001b[39;00m {\u001b[38;5;241m0\u001b[39m, \u001b[38;5;241m1\u001b[39m, \u001b[38;5;241m2\u001b[39m}:\n\u001b[0;32m    318\u001b[0m     \u001b[38;5;28;01mraise\u001b[39;00m \u001b[38;5;167;01mValueError\u001b[39;00m(\n\u001b[0;32m    319\u001b[0m         \u001b[38;5;124mf\u001b[39m\u001b[38;5;124m\"\u001b[39m\u001b[38;5;124mIPython won\u001b[39m\u001b[38;5;124m'\u001b[39m\u001b[38;5;124mt let you open fd=\u001b[39m\u001b[38;5;132;01m{\u001b[39;00mfile\u001b[38;5;132;01m}\u001b[39;00m\u001b[38;5;124m by default \u001b[39m\u001b[38;5;124m\"\u001b[39m\n\u001b[0;32m    320\u001b[0m         \u001b[38;5;124m\"\u001b[39m\u001b[38;5;124mas it is likely to crash IPython. If you know what you are doing, \u001b[39m\u001b[38;5;124m\"\u001b[39m\n\u001b[0;32m    321\u001b[0m         \u001b[38;5;124m\"\u001b[39m\u001b[38;5;124myou can use builtins\u001b[39m\u001b[38;5;124m'\u001b[39m\u001b[38;5;124m open.\u001b[39m\u001b[38;5;124m\"\u001b[39m\n\u001b[0;32m    322\u001b[0m     )\n\u001b[1;32m--> 324\u001b[0m \u001b[38;5;28;01mreturn\u001b[39;00m io_open(file, \u001b[38;5;241m*\u001b[39margs, \u001b[38;5;241m*\u001b[39m\u001b[38;5;241m*\u001b[39mkwargs)\n",
      "\u001b[1;31mFileNotFoundError\u001b[0m: [Errno 2] No such file or directory: '\\\\data\\\\json_files\\\\02_08_2024_summary_vers003.json'"
     ]
    }
   ],
   "source": [
    "\n",
    "# Write the JSON data to a new file\n",
    "#CHANGE THIS FILE NAME\n",
    "with open(r\"\\data\\json_files\\02_08_2024_summary_vers003.json\", \"w\", encoding=\"utf-8\") as json_file: #CHANGE THIS FILE NAME\n",
    "    json.dump(response_summary_dict, json_file, ensure_ascii=False, indent=4)\n",
    "\n",
    "print(\"Text extraction completed and saved as JSON.\")"
   ]
  }
 ],
 "metadata": {
  "kernelspec": {
   "display_name": "venv",
   "language": "python",
   "name": "python3"
  },
  "language_info": {
   "codemirror_mode": {
    "name": "ipython",
    "version": 3
   },
   "file_extension": ".py",
   "mimetype": "text/x-python",
   "name": "python",
   "nbconvert_exporter": "python",
   "pygments_lexer": "ipython3",
   "version": "3.10.4"
  }
 },
 "nbformat": 4,
 "nbformat_minor": 2
}
