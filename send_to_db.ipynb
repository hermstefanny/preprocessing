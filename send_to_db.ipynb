{
 "cells": [
  {
   "cell_type": "code",
   "execution_count": 5,
   "metadata": {},
   "outputs": [
    {
     "name": "stdout",
     "output_type": "stream",
     "text": [
      "{'date': '07-11-2023', 'document_id': 'acta_030', 'act_name': 'Acta de la Sesión No. 030 Ordinaria del Concejo Metropolitano de Quito', 'topics': ['Verificación del cuórum', 'Presentación sobre procesos judiciales relacionados con eventos de inseguridad', 'Informe sobre cambio de categoría de bien municipal para donación a SENESCYT', 'Primer debate del Proyecto de Ordenanza Metropolitana del Fomento del Comercio Justo y Consumo Responsable', 'Segundo debate de la Ordenanza para Regularización Vial en el barrio Servidores de la Salud'], 'problems': ['Inseguridad y colocación de artefactos explosivos en el espacio público', 'Falta de infraestructura educativa en el sur de Quito', 'Necesidad de regularización vial en áreas específicas'], 'petitions': ['Solicitudes de informes sobre procesos judiciales y reparaciones', 'Propuestas para establecer plazos en la donación de predios a SENESCYT', 'Requerimiento de un enfoque participativo en la ordenanza de comercio justo'], 'solutions': ['Aprobación de la donación del predio a SENESCYT para construcción de un instituto', 'Acogimiento de observaciones para el desarrollo del Proyecto de Ordenanza de Comercio Justo', 'Decisión de regresar el Proyecto de Ordenanza de Regularización Vial a la Comisión de Uso de Suelo para revisión'], 'participants': ['Pabel Muñoz López (Alcalde)', 'Fernanda Racines Corredores (Vicealcaldesa)', 'Andrés Campaña Remache', 'Estefanía Grunauer Reinoso', 'Blanca Paucar Paucar', 'Emilio Uzcátegui Jiménez', 'Adrián Ibarra González', 'Héctor Cueva Cueva', 'Fidel Chamba Vozmediano', 'Gabriel Noroña Díaz', 'Wilson Merino Rivadeneira', 'Bernardo Abad Merchán', 'Diana Cruz Murillo', 'Sandra Hidalgo Espinel', 'Robin Armijos Coloma', 'Cristina López Gómez de la Torre', 'Joselyn Mayorga Salazar', 'Michael Aulestia Salazar', 'Darío Cahueñas Apunte', 'Ángel Vega'], 'summary': 'En la sesión del 7 de noviembre de 2023, el Concejo Metropolitano de Quito abordó temas clave como la inseguridad en la ciudad, la donación de un predio a SENESCYT para educación superior, y se debatieron proyectos de ordenanza relacionados con el comercio justo y la regularización vial.', 'document_url': 'https://www7.quito.gob.ec/mdmq_ordenanzas/Administraci%C3%B3n%202023-2027/Actas%20Sesiones/2023/Acta%20Sesi%C3%B3n%20Ordinaria%20No.%20030%202023-11-07.pdf'}\n"
     ]
    }
   ],
   "source": [
    "import json\n",
    "import requests\n",
    "\n",
    "with open(r\"work_on_minutes\\acta_07_noviembre_2023\\response_summary_TOTAL_vers003_formatted.json\", encoding=\"utf-8\") as text_file:\n",
    " \n",
    "    hopefully_dict = text_file.read()  \n",
    "\n",
    "# Convert the content to a dictionary\n",
    "try:\n",
    "    response_summary_dict = json.loads(hopefully_dict)\n",
    "    # Add a new key-value pair to the dictionary\n",
    "    response_summary_dict[\"document_url\"] = \"https://www7.quito.gob.ec/mdmq_ordenanzas/Administraci%C3%B3n%202023-2027/Actas%20Sesiones/2023/Acta%20Sesi%C3%B3n%20Ordinaria%20No.%20030%202023-11-07.pdf\"\n",
    "\n",
    "    print(response_summary_dict)\n",
    "    \n",
    "    \n",
    "except json.JSONDecodeError as e:\n",
    "    print(f\"Error decoding JSON: {e}\")"
   ]
  },
  {
   "cell_type": "code",
   "execution_count": 6,
   "metadata": {},
   "outputs": [
    {
     "name": "stdout",
     "output_type": "stream",
     "text": [
      "422\n"
     ]
    }
   ],
   "source": [
    "response = requests.post(\"http://localhost:8000/summaries\", json=response_summary_dict)\n",
    "print(response.status_code)"
   ]
  },
  {
   "cell_type": "code",
   "execution_count": 7,
   "metadata": {},
   "outputs": [
    {
     "name": "stdout",
     "output_type": "stream",
     "text": [
      "('{\"detail\":[{\"type\":\"date_from_datetime_parsing\",\"loc\":[\"body\",\"date\"],\"msg\":\"Input '\n",
      " 'should be a valid date or datetime, invalid character in '\n",
      " 'year\",\"input\":\"07-11-2023\",\"ctx\":{\"error\":\"invalid character in year\"}}]}')\n"
     ]
    }
   ],
   "source": [
    "from pprint import pprint\n",
    "pprint(response.text)"
   ]
  },
  {
   "cell_type": "code",
   "execution_count": 2,
   "metadata": {},
   "outputs": [
    {
     "name": "stdout",
     "output_type": "stream",
     "text": [
      "Text extraction completed and saved as JSON.\n"
     ]
    }
   ],
   "source": [
    "\n",
    "# Write the JSON data to a new file\n",
    "with open(r\"json_files\\dd_mm_yy_summary_vers00x.json\", \"w\", encoding=\"utf-8\") as json_file:\n",
    "    json.dump(response_summary_dict, json_file, ensure_ascii=False, indent=4)\n",
    "\n",
    "print(\"Text extraction completed and saved as JSON.\")"
   ]
  }
 ],
 "metadata": {
  "kernelspec": {
   "display_name": "venv",
   "language": "python",
   "name": "python3"
  },
  "language_info": {
   "codemirror_mode": {
    "name": "ipython",
    "version": 3
   },
   "file_extension": ".py",
   "mimetype": "text/x-python",
   "name": "python",
   "nbconvert_exporter": "python",
   "pygments_lexer": "ipython3",
   "version": "3.10.4"
  }
 },
 "nbformat": 4,
 "nbformat_minor": 2
}
