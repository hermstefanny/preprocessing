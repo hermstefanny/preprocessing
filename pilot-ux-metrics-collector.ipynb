{
 "cells": [
  {
   "cell_type": "code",
   "execution_count": 15,
   "metadata": {},
   "outputs": [],
   "source": [
    "import json\n",
    "import os\n",
    "from pymongo import MongoClient\n",
    "from dotenv import load_dotenv\n",
    "import pandas as pd\n",
    "\n",
    "\n",
    "load_dotenv(override=True)\n",
    "\n",
    "\n",
    "# MongoDB connection settings\n",
    "mongo_uri = os.environ[\"DATABASE_URL\"]  # Update if your MongoDB is hosted elsewhere\n",
    "database_name = \"cv_tech\"      # Replace with your database name\n",
    "collection_name = \"UserActions\"  # Replace with your collection name\n",
    "\n",
    "# Connect to MongoDB\n",
    "client = MongoClient(mongo_uri)\n",
    "db = client[database_name]\n",
    "collection = db[collection_name]\n"
   ]
  },
  {
   "cell_type": "markdown",
   "metadata": {},
   "source": [
    "## session_id"
   ]
  },
  {
   "cell_type": "code",
   "execution_count": null,
   "metadata": {},
   "outputs": [],
   "source": [
    "pipeline_for_session_id = [\n",
    "    {\"$sort\": {\"session_id\": 1, \"date\": 1}},\n",
    "    {\n",
    "        \"$group\": {\n",
    "            \"_id\": \"$session_id\",\n",
    "            \"count\": {\"$sum\": 1},\n",
    "            \"actions\": {\"$push\": {\"action\": \"$action\", \"date\": \"$date\"}},\n",
    "        }\n",
    "    },\n",
    "    {\n",
    "        \"$project\": {\n",
    "            \"_id\": 1,\n",
    "            \"actions\": {\"$sortArray\": {\"input\": \"$actions\", \"sortBy\": {\"date\": 1}}},\n",
    "        }\n",
    "    },\n",
    "    {\"$unwind\": \"$actions\"},\n",
    "    {\n",
    "        \"$setWindowFields\": {\n",
    "            \"partitionBy\": \"$_id\",\n",
    "            \"sortBy\": {\"actions.date\": 1},\n",
    "            \"output\": {\n",
    "                \"previousDate\": {\"$shift\": {\"output\": \"$actions.date\", \"by\": -1}}\n",
    "            },\n",
    "        }\n",
    "    },\n",
    "    {\n",
    "        \"$addFields\": {\n",
    "            \"timeBetweenActions\": {\n",
    "                \"$cond\": {\n",
    "                    \"if\": {\"$eq\": [\"$previousDate\", None]},\n",
    "                    \"then\": None,\n",
    "                    \"else\": {\n",
    "                        \"$divide\": [\n",
    "                            {\n",
    "                                \"$subtract\": [\n",
    "                                    {\"$toDate\": \"$actions.date\"},\n",
    "                                    {\"$toDate\": \"$previousDate\"},\n",
    "                                ]\n",
    "                            },\n",
    "                            1000,\n",
    "                        ]\n",
    "                    },\n",
    "                }\n",
    "            }\n",
    "        }\n",
    "    },\n",
    "    {\n",
    "        \"$addFields\": {\n",
    "            \"concatenatedString\": {\n",
    "                \"$concat\": [\n",
    "                    {\n",
    "                        \"$cond\": {\n",
    "                            \"if\": {\"$eq\": [\"$timeBetweenActions\", None]},\n",
    "                            \"then\": \"_ \",\n",
    "                            \"else\": {\"$toString\": \"$timeBetweenActions\"},\n",
    "                        }\n",
    "                    },\n",
    "                    \" \",\n",
    "                    \"$actions.action\",\n",
    "                ]\n",
    "            }\n",
    "        }\n",
    "    },\n",
    "    {\n",
    "        \"$group\": {\n",
    "            \"_id\": \"$_id\",\n",
    "            \"actions\": {\"$push\": {\"concatenatedString\": \"$concatenatedString\"}},\n",
    "        }\n",
    "    },\n",
    "    {\n",
    "        \"$project\": {\n",
    "            \"_id\": \"$_id\",\n",
    "            \"test\": {\n",
    "                \"$map\": {\n",
    "                    \"input\": \"$actions\",\n",
    "                    \"as\": \"val\",\n",
    "                    \"in\": \"$$val.concatenatedString\",\n",
    "                }\n",
    "            },\n",
    "        }\n",
    "    },\n",
    "]"
   ]
  },
  {
   "cell_type": "code",
   "execution_count": null,
   "metadata": {},
   "outputs": [
    {
     "name": "stdout",
     "output_type": "stream",
     "text": [
      "{'_id': '0d4f8akv8q18', 'test': ['_  Click on MENU_Actas del Concejo de Quito', '3.984 Click on MES_Agosto button', '0.654 Click on RESUMEN_acta_077', '9.094 Click on MENU_Actas del Concejo de Quito', '1.031 Click on MES_Enero button', '1.427 Click on RESUMEN_acta_046', '5030.329 Click on MENU_Actas del Concejo de Quito', '2.562 Click on MES_Agosto button', '78.294 Click on MES_Agosto button', '2.15 Click on MES_Enero button', '3.818 Click on RESUMEN_acta_045', '64620.725 Click on MENU_Actas del Concejo de Quito', '3.927 Click on MENU_Actas del Concejo de Quito', '9.071 Click on MES_Enero button', '11.324 Click on RESUMEN_acta_045', '2416.627 Click on MES_Enero button', '1.433 Click on RESUMEN_acta_045', '127.013 Click on MENU_Actas del Concejo de Quito', '3.598 Click on MES_Enero button', '0.886 Click on RESUMEN_acta_045', '479.616 Click on MES_Enero button', '2.614 Click on RESUMEN_acta_045', '6.332 Click on MES_Enero button', '0.863 Click on RESUMEN_acta_045', '23.762 Click on MENU_Actas del Concejo de Quito', '1.221 Click on MES_Enero button', '0.616 Click on RESUMEN_acta_045', '12.435 Click on MES_Enero button', '0.805 Click on RESUMEN_acta_045']}\n",
      "{'_id': '8f3ieshbbm8', 'test': ['_  Click on MENU_Actas del Concejo de Quito']}\n",
      "{'_id': None, 'test': ['_  Click on MENU_Actas del Concejo de Quito', '18.296 Click on LEER_ resúmenes', '3.106 Click on MES_Agosto button', '5.174 Click on MES_Julio button', '1.236 Click on MES_Junio button', '1.082 Click on MES_Agosto button', '0.614 Click on RESUMEN_acta_077', '99.879 Click on PDF_acta_077', '2306.716 Click on MES_Julio button', '0.791 Click on RESUMEN_acta_0076', '18.269 Click on MES_Enero button', '1.129 Click on RESUMEN_acta_046', '32778.475 Click on LEER_ resúmenes', '7.313 Click on MES_Agosto button', '17.452 Click on MES_Junio button', '0.944 Click on MES_Enero button', '1.097 Click on MES_Abril button', '1.274 Click on MES_Mayo button', '0.81 Click on MES_Agosto button', '1.357 Click on MES_Julio button', '1.066 Click on MES_Junio button', '1.798 Click on MES_Agosto button', '7.989 Click on MES_Mayo button', '1.102 Click on MES_Abril button', '1.305 Click on MES_Julio button', '1.402 Click on MES_Enero button', '3.615 Click on MES_Junio button', '1.469 Click on MES_Agosto button', '78.035 Click on MES_Julio button', '151.351 Click on MES_Agosto button', '1.216 Click on MES_Abril button', '1.552 Click on MES_Enero button', '1.44 Click on MES_Junio button', '3.892 Click on MES_Agosto button', '6.743 Click on MENU_Actas del Concejo de Quito', '4.155 Click on MENU_Actas del Concejo de Quito', '30.736 Click on MES_Mayo button', '1.508 Click on MES_Abril button', '3.165 Click on MES_Julio button', '1.619 Click on MES_Junio button', '0.706 Click on MES_Enero button', '37.569 Click on MENU_Actas del Concejo de Quito', '3.551 Click on MES_Agosto button', '33.928 Click on MENU_Actas del Concejo de Quito', '2.625 Click on MES_Agosto button', '74.518 Click on MES_Agosto button', '0.892 Click on MES_Agosto button', '0.773 Click on RESUMEN_acta_077', '335.169 Click on PDF_acta_077', '2983.743 Click on MENU_Actas del Concejo de Quito', '3.427 Click on MES_Agosto button', '6.15 Click on RESUMEN_acta_077', '1381.295 Click on MENU_Actas del Concejo de Quito', '4.299 Click on MES_Agosto button', '197.688 Click on MES_Agosto button', '0.855 Click on MES_Agosto button', '1.169 Click on RESUMEN_acta_077', '26790.853 Click on LEER_ resúmenes', '24.43 Click on MES_Agosto button', '10.431 Click on RESUMEN_acta_077', '126.26 Click on PDF_acta_077', '1505.878 Click on MES_Agosto button', '1.753 Click on MES_Mayo button', '1.306 Click on MES_Abril button', '5.205 Click on MES_Agosto button', '187.683 Click on MES_Agosto button', '8.096 Click on MES_Agosto button', '164.743 Click on MES_Agosto button', '2447.891 Click on MENU_Actas del Concejo de Quito', '3.571 Click on MES_Agosto button', '3.108 Click on MES_Julio button', '2.726 Click on MES_Agosto button', '1.62 Click on MES_Mayo button', '1.424 Click on MES_Abril button', '291.747 Click on MES_Agosto button', '1.571 Click on MES_Mayo button', '1.112 Click on MES_Abril button', '1.784 Click on MES_Julio button', '0.998 Click on MES_Junio button', '1588.022 Click on MENU_Actas del Concejo de Quito', '3.64 Click on MES_Agosto button', '2.128 Click on MES_Mayo button', '1.824 Click on MES_Agosto button', '1.222 Click on MES_Julio button', '2.926 Click on MES_Enero button', '3.896 Click on MES_Enero button', '31.277 Click on MENU_Actas del Concejo de Quito', '1.5 Click on MES_Agosto button', '0.904 Click on MES_Agosto button', '11588.535 Click on MENU_Actas del Concejo de Quito', '6.549 Click on MES_Enero button', '7.819 Click on RESUMEN_acta_045', '52328.098 Click on MENU_Actas del Concejo de Quito', '3.135 Click on MES_Enero button', '3.272 Click on RESUMEN_acta_045']}\n",
      "{'_id': 'vilmpewth9', 'test': ['_  Click on MENU_Actas del Concejo de Quito', '3.045 Click on MES_Enero button', '1.117 Click on RESUMEN_acta_045', '10.84 Click on MES_Enero button', '0.779 Click on RESUMEN_acta_045', '16.758 Click on MES_Enero button', '0.606 Click on RESUMEN_acta_045', '849.118 Click on MENU_Actas del Concejo de Quito', '44.074 Click on MENU_Actas del Concejo de Quito', '1.191 Click on MES_Enero button', '2.158 Click on RESUMEN_acta_045', '764.309 Click on MENU_Actas del Concejo de Quito', '2.987 Click on MES_Enero button', '1.487 Click on RESUMEN_acta_046', '1129.612 Click on MES_Enero button', '0.624 Click on RESUMEN_acta_046', '819.923 Click on MENU_Actas del Concejo de Quito', '3.842 Click on MES_Marzo button', '4.751 Click on MES_Marzo button', '0.975 Click on MES_Febrero button', '1.198 Click on MES_Enero button', '1.08 Click on MES_Febrero button', '0.496 Click on MES_Marzo button', '5.783 Click on RESUMEN_acta_051']}\n"
     ]
    }
   ],
   "source": [
    "results = list(collection.aggregate(pipeline_for_session_id))\n",
    "\n",
    "for result in results:\n",
    "    print(result)"
   ]
  },
  {
   "cell_type": "code",
   "execution_count": 17,
   "metadata": {},
   "outputs": [
    {
     "name": "stdout",
     "output_type": "stream",
     "text": [
      "['_  Click on MENU_Actas del Concejo de Quito', '3.045 Click on MES_Enero button', '1.117 Click on RESUMEN_acta_045', '10.84 Click on MES_Enero button', '0.779 Click on RESUMEN_acta_045', '16.758 Click on MES_Enero button', '0.606 Click on RESUMEN_acta_045', '849.118 Click on MENU_Actas del Concejo de Quito', '44.074 Click on MENU_Actas del Concejo de Quito', '1.191 Click on MES_Enero button', '2.158 Click on RESUMEN_acta_045', '764.309 Click on MENU_Actas del Concejo de Quito', '2.987 Click on MES_Enero button', '1.487 Click on RESUMEN_acta_046', '1129.612 Click on MES_Enero button', '0.624 Click on RESUMEN_acta_046', '819.923 Click on MENU_Actas del Concejo de Quito', '3.842 Click on MES_Marzo button', '4.751 Click on MES_Marzo button', '0.975 Click on MES_Febrero button', '1.198 Click on MES_Enero button', '1.08 Click on MES_Febrero button', '0.496 Click on MES_Marzo button', '5.783 Click on RESUMEN_acta_051']\n"
     ]
    }
   ],
   "source": [
    "user1_actions = results[0][\"test\"]\n",
    "user4_actions = results[3][\"test\"]\n",
    "\n",
    "print(user4_actions)"
   ]
  },
  {
   "cell_type": "code",
   "execution_count": 58,
   "metadata": {},
   "outputs": [
    {
     "name": "stdout",
     "output_type": "stream",
     "text": [
      "{' Click on MENU_Actas del Concejo de Quito': '_', 'Click on MES_Agosto button': '78.294', 'Click on RESUMEN_acta_077': '0.654', 'Click on MENU_Actas del Concejo de Quito': '23.762', 'Click on MES_Enero button': '12.435', 'Click on RESUMEN_acta_046': '1.427', 'Click on RESUMEN_acta_045': '0.805'}\n"
     ]
    }
   ],
   "source": [
    "separated = {}\n",
    "\n",
    "for item in user1_actions:\n",
    "    string_sep = item.split(\" \",1)\n",
    "    key = string_sep[1]\n",
    "    value = string_sep[0]\n",
    "    separated[key] = value\n",
    "\n",
    "print(separated)\n",
    "    "
   ]
  },
  {
   "cell_type": "code",
   "execution_count": 97,
   "metadata": {},
   "outputs": [
    {
     "data": {
      "text/html": [
       "<div>\n",
       "<style scoped>\n",
       "    .dataframe tbody tr th:only-of-type {\n",
       "        vertical-align: middle;\n",
       "    }\n",
       "\n",
       "    .dataframe tbody tr th {\n",
       "        vertical-align: top;\n",
       "    }\n",
       "\n",
       "    .dataframe thead th {\n",
       "        text-align: right;\n",
       "    }\n",
       "</style>\n",
       "<table border=\"1\" class=\"dataframe\">\n",
       "  <thead>\n",
       "    <tr style=\"text-align: right;\">\n",
       "      <th></th>\n",
       "      <th>action</th>\n",
       "      <th>time</th>\n",
       "    </tr>\n",
       "  </thead>\n",
       "  <tbody>\n",
       "    <tr>\n",
       "      <th>0</th>\n",
       "      <td>Click on MENU_Actas del Concejo de Quito</td>\n",
       "      <td>NaN</td>\n",
       "    </tr>\n",
       "    <tr>\n",
       "      <th>1</th>\n",
       "      <td>Click on MES_Agosto button</td>\n",
       "      <td>78.294</td>\n",
       "    </tr>\n",
       "    <tr>\n",
       "      <th>2</th>\n",
       "      <td>Click on RESUMEN_acta_077</td>\n",
       "      <td>0.654</td>\n",
       "    </tr>\n",
       "    <tr>\n",
       "      <th>3</th>\n",
       "      <td>Click on MENU_Actas del Concejo de Quito</td>\n",
       "      <td>23.762</td>\n",
       "    </tr>\n",
       "    <tr>\n",
       "      <th>4</th>\n",
       "      <td>Click on MES_Enero button</td>\n",
       "      <td>12.435</td>\n",
       "    </tr>\n",
       "    <tr>\n",
       "      <th>5</th>\n",
       "      <td>Click on RESUMEN_acta_046</td>\n",
       "      <td>1.427</td>\n",
       "    </tr>\n",
       "    <tr>\n",
       "      <th>6</th>\n",
       "      <td>Click on RESUMEN_acta_045</td>\n",
       "      <td>0.805</td>\n",
       "    </tr>\n",
       "  </tbody>\n",
       "</table>\n",
       "</div>"
      ],
      "text/plain": [
       "                                      action    time\n",
       "0   Click on MENU_Actas del Concejo de Quito     NaN\n",
       "1                 Click on MES_Agosto button  78.294\n",
       "2                  Click on RESUMEN_acta_077   0.654\n",
       "3   Click on MENU_Actas del Concejo de Quito  23.762\n",
       "4                  Click on MES_Enero button  12.435\n",
       "5                  Click on RESUMEN_acta_046   1.427\n",
       "6                  Click on RESUMEN_acta_045   0.805"
      ]
     },
     "execution_count": 97,
     "metadata": {},
     "output_type": "execute_result"
    }
   ],
   "source": [
    "user1_df = pd.DataFrame.from_dict(separated, orient='index', columns=['Value']).reset_index()\n",
    "user1_df.columns=['action', 'time']\n",
    "user1_df['time'] = pd.to_numeric(user1_df['time'], errors='coerce')\n",
    "user1_df"
   ]
  },
  {
   "cell_type": "code",
   "execution_count": 98,
   "metadata": {},
   "outputs": [],
   "source": [
    "## extra_data\n",
    "user1_df.loc[7] = ['Click on PDF_acta_077', 35.68]\n"
   ]
  },
  {
   "cell_type": "code",
   "execution_count": 99,
   "metadata": {},
   "outputs": [
    {
     "data": {
      "text/html": [
       "<div>\n",
       "<style scoped>\n",
       "    .dataframe tbody tr th:only-of-type {\n",
       "        vertical-align: middle;\n",
       "    }\n",
       "\n",
       "    .dataframe tbody tr th {\n",
       "        vertical-align: top;\n",
       "    }\n",
       "\n",
       "    .dataframe thead th {\n",
       "        text-align: right;\n",
       "    }\n",
       "</style>\n",
       "<table border=\"1\" class=\"dataframe\">\n",
       "  <thead>\n",
       "    <tr style=\"text-align: right;\">\n",
       "      <th></th>\n",
       "      <th>action</th>\n",
       "      <th>time</th>\n",
       "    </tr>\n",
       "  </thead>\n",
       "  <tbody>\n",
       "    <tr>\n",
       "      <th>0</th>\n",
       "      <td>Click on MENU_Actas del Concejo de Quito</td>\n",
       "      <td>NaN</td>\n",
       "    </tr>\n",
       "    <tr>\n",
       "      <th>1</th>\n",
       "      <td>Click on MES_Agosto button</td>\n",
       "      <td>78.294</td>\n",
       "    </tr>\n",
       "    <tr>\n",
       "      <th>2</th>\n",
       "      <td>Click on RESUMEN_acta_077</td>\n",
       "      <td>0.654</td>\n",
       "    </tr>\n",
       "    <tr>\n",
       "      <th>3</th>\n",
       "      <td>Click on MENU_Actas del Concejo de Quito</td>\n",
       "      <td>23.762</td>\n",
       "    </tr>\n",
       "    <tr>\n",
       "      <th>4</th>\n",
       "      <td>Click on MES_Enero button</td>\n",
       "      <td>12.435</td>\n",
       "    </tr>\n",
       "    <tr>\n",
       "      <th>5</th>\n",
       "      <td>Click on RESUMEN_acta_046</td>\n",
       "      <td>1.427</td>\n",
       "    </tr>\n",
       "    <tr>\n",
       "      <th>6</th>\n",
       "      <td>Click on RESUMEN_acta_045</td>\n",
       "      <td>0.805</td>\n",
       "    </tr>\n",
       "    <tr>\n",
       "      <th>7</th>\n",
       "      <td>Click on PDF_acta_077</td>\n",
       "      <td>35.680</td>\n",
       "    </tr>\n",
       "    <tr>\n",
       "      <th>8</th>\n",
       "      <td>Click on MENU_Actas del Concejo de Quito</td>\n",
       "      <td>4857.523</td>\n",
       "    </tr>\n",
       "    <tr>\n",
       "      <th>9</th>\n",
       "      <td>Click on MES_Agosto button</td>\n",
       "      <td>78.294</td>\n",
       "    </tr>\n",
       "    <tr>\n",
       "      <th>10</th>\n",
       "      <td>Click on PDF_acta_077</td>\n",
       "      <td>5.000</td>\n",
       "    </tr>\n",
       "    <tr>\n",
       "      <th>11</th>\n",
       "      <td>Click on MES_Enero button</td>\n",
       "      <td>765.000</td>\n",
       "    </tr>\n",
       "  </tbody>\n",
       "</table>\n",
       "</div>"
      ],
      "text/plain": [
       "                                       action      time\n",
       "0    Click on MENU_Actas del Concejo de Quito       NaN\n",
       "1                  Click on MES_Agosto button    78.294\n",
       "2                   Click on RESUMEN_acta_077     0.654\n",
       "3    Click on MENU_Actas del Concejo de Quito    23.762\n",
       "4                   Click on MES_Enero button    12.435\n",
       "5                   Click on RESUMEN_acta_046     1.427\n",
       "6                   Click on RESUMEN_acta_045     0.805\n",
       "7                       Click on PDF_acta_077    35.680\n",
       "8    Click on MENU_Actas del Concejo de Quito  4857.523\n",
       "9                  Click on MES_Agosto button    78.294\n",
       "10                      Click on PDF_acta_077     5.000\n",
       "11                  Click on MES_Enero button   765.000"
      ]
     },
     "execution_count": 99,
     "metadata": {},
     "output_type": "execute_result"
    }
   ],
   "source": [
    "user1_df.loc[8] = ['Click on MENU_Actas del Concejo de Quito', 4857.523]\n",
    "user1_df.loc[9] = ['Click on MES_Agosto button', 78.294]\n",
    "user1_df.loc[10] = ['Click on PDF_acta_077', 5.0]\n",
    "user1_df.loc[11] = ['Click on MES_Enero button', 765.0]\n",
    "user1_df\n"
   ]
  },
  {
   "cell_type": "code",
   "execution_count": 74,
   "metadata": {},
   "outputs": [],
   "source": [
    "## correct_flow\n",
    "task_sucess_flow_MENU =['Click on MENU_Actas del Concejo de Quito', 'Click on MES_Agosto button', 'Click on RESUMEN_acta_077', 'Click on PDF_acta_077']\n",
    "task_sucess_flow_BUTTON =['Click on LEER_ resúmenes', 'Click on MES_Agosto button', 'Click on RESUMEN_acta_077', 'Click on PDF_acta_077']\n"
   ]
  },
  {
   "cell_type": "code",
   "execution_count": 126,
   "metadata": {},
   "outputs": [
    {
     "name": "stdout",
     "output_type": "stream",
     "text": [
      "7\n",
      "                                      action    time\n",
      "0   Click on MENU_Actas del Concejo de Quito     NaN\n",
      "1                 Click on MES_Agosto button  78.294\n",
      "2                  Click on RESUMEN_acta_077   0.654\n",
      "3   Click on MENU_Actas del Concejo de Quito  23.762\n",
      "4                  Click on MES_Enero button  12.435\n",
      "5                  Click on RESUMEN_acta_046   1.427\n",
      "6                  Click on RESUMEN_acta_045   0.805\n",
      "7                      Click on PDF_acta_077  35.680\n"
     ]
    }
   ],
   "source": [
    "index_sucess = user1_df.loc[user1_df['action'] == 'Click on PDF_acta_077'].index[0]\n",
    "print(index_sucess)\n",
    "\n",
    "task_completed_df = user1_df.loc[:index_sucess]\n",
    "\n",
    "print(task_completed_df)"
   ]
  },
  {
   "cell_type": "markdown",
   "metadata": {},
   "source": [
    "### Task Sucess Rate"
   ]
  },
  {
   "cell_type": "code",
   "execution_count": 127,
   "metadata": {},
   "outputs": [
    {
     "name": "stdout",
     "output_type": "stream",
     "text": [
      "sucess by menu\n",
      "True\n"
     ]
    }
   ],
   "source": [
    "action_list = task_completed_df['action'].tolist()\n",
    "\n",
    "if set(task_sucess_flow_MENU).issubset(set(action_list )):\n",
    "    print(\"sucess by menu\")\n",
    "    task_sucess_flag = True\n",
    "elif set(task_sucess_flow_BUTTON).issubset(set(action_list )): \n",
    "    print(\"sucess by button\")\n",
    "    task_sucess_flag = True\n",
    "else:\n",
    "    print(\"not-sucess\")\n",
    "    task_sucess_flag = False\n",
    "\n",
    "print(task_sucess_flag)"
   ]
  },
  {
   "cell_type": "markdown",
   "metadata": {},
   "source": [
    "##### extract sucess only list"
   ]
  },
  {
   "cell_type": "code",
   "execution_count": 116,
   "metadata": {},
   "outputs": [
    {
     "name": "stdout",
     "output_type": "stream",
     "text": [
      "[' Click on MENU_Actas del Concejo de Quito', 'Click on MES_Agosto button', 'Click on RESUMEN_acta_077', 'Click on MENU_Actas del Concejo de Quito', 'Click on MES_Enero button', 'Click on RESUMEN_acta_046', 'Click on RESUMEN_acta_045', 'Click on PDF_acta_077']\n"
     ]
    }
   ],
   "source": [
    "extract_until_success = []\n",
    "for item in action_list:\n",
    "    extract_until_success.append(item)\n",
    "    if item == 'Click on PDF_acta_077':\n",
    "        break\n",
    "    \n",
    "print(extract_until_success)\n",
    "\n"
   ]
  },
  {
   "cell_type": "markdown",
   "metadata": {},
   "source": [
    "### User Error Rate"
   ]
  },
  {
   "cell_type": "code",
   "execution_count": 129,
   "metadata": {},
   "outputs": [
    {
     "name": "stdout",
     "output_type": "stream",
     "text": [
      "User ERROR\n",
      "True\n"
     ]
    }
   ],
   "source": [
    "if (action_list == task_sucess_flow_MENU) or (action_list == task_sucess_flow_BUTTON):\n",
    "    print(\"User correctly completed the task\")\n",
    "    user_error_flag = False\n",
    "else:\n",
    "    print(\"User ERROR\")\n",
    "    user_error_flag = True\n",
    "\n",
    "print(user_error_flag)"
   ]
  },
  {
   "cell_type": "markdown",
   "metadata": {},
   "source": [
    "### Time on Task"
   ]
  },
  {
   "cell_type": "code",
   "execution_count": 128,
   "metadata": {},
   "outputs": [
    {
     "data": {
      "text/plain": [
       "153.057"
      ]
     },
     "execution_count": 128,
     "metadata": {},
     "output_type": "execute_result"
    }
   ],
   "source": [
    "task_completed_df['time'].sum()"
   ]
  },
  {
   "cell_type": "markdown",
   "metadata": {},
   "source": [
    "## pipeline for user_id"
   ]
  },
  {
   "cell_type": "code",
   "execution_count": 12,
   "metadata": {},
   "outputs": [],
   "source": [
    "pipeline_for_user_id = [\n",
    "    {\"$sort\": {\"user_id\": 1, \"date\": 1}},\n",
    "    {\n",
    "        \"$group\": {\n",
    "            \"_id\": \"$user_id\",\n",
    "            \"count\": {\"$sum\": 1},\n",
    "            \"actions\": {\"$push\": {\"action\": \"$action\", \"date\": \"$date\"}},\n",
    "        }\n",
    "    },\n",
    "    {\n",
    "        \"$project\": {\n",
    "            \"_id\": 1,\n",
    "            \"actions\": {\"$sortArray\": {\"input\": \"$actions\", \"sortBy\": {\"date\": 1}}},\n",
    "        }\n",
    "    },\n",
    "    {\"$unwind\": \"$actions\"},\n",
    "    {\n",
    "        \"$setWindowFields\": {\n",
    "            \"partitionBy\": \"$_id\",\n",
    "            \"sortBy\": {\"actions.date\": 1},\n",
    "            \"output\": {\n",
    "                \"previousDate\": {\"$shift\": {\"output\": \"$actions.date\", \"by\": -1}}\n",
    "            },\n",
    "        }\n",
    "    },\n",
    "    {\n",
    "        \"$addFields\": {\n",
    "            \"timeBetweenActions\": {\n",
    "                \"$cond\": {\n",
    "                    \"if\": {\"$eq\": [\"$previousDate\", None]},\n",
    "                    \"then\": None,\n",
    "                    \"else\": {\n",
    "                        \"$divide\": [\n",
    "                            {\n",
    "                                \"$subtract\": [\n",
    "                                    {\"$toDate\": \"$actions.date\"},\n",
    "                                    {\"$toDate\": \"$previousDate\"},\n",
    "                                ]\n",
    "                            },\n",
    "                            1000,\n",
    "                        ]\n",
    "                    },\n",
    "                }\n",
    "            }\n",
    "        }\n",
    "    },\n",
    "    {\n",
    "        \"$addFields\": {\n",
    "            \"concatenatedString\": {\n",
    "                \"$concat\": [\n",
    "                    {\n",
    "                        \"$cond\": {\n",
    "                            \"if\": {\"$eq\": [\"$timeBetweenActions\", None]},\n",
    "                            \"then\": \"_ \",\n",
    "                            \"else\": {\"$toString\": \"$timeBetweenActions\"},\n",
    "                        }\n",
    "                    },\n",
    "                    \" \",\n",
    "                    \"$actions.action\",\n",
    "                ]\n",
    "            }\n",
    "        }\n",
    "    },\n",
    "    {\n",
    "        \"$group\": {\n",
    "            \"_id\": \"$_id\",\n",
    "            \"actions\": {\"$push\": {\"concatenatedString\": \"$concatenatedString\"}},\n",
    "        }\n",
    "    },\n",
    "    {\n",
    "        \"$project\": {\n",
    "            \"_id\": \"$_id\",\n",
    "            \"test\": {\n",
    "                \"$map\": {\n",
    "                    \"input\": \"$actions\",\n",
    "                    \"as\": \"val\",\n",
    "                    \"in\": \"$$val.concatenatedString\",\n",
    "                }\n",
    "            },\n",
    "        }\n",
    "    },\n",
    "]"
   ]
  },
  {
   "cell_type": "code",
   "execution_count": 13,
   "metadata": {},
   "outputs": [
    {
     "name": "stdout",
     "output_type": "stream",
     "text": [
      "{'_id': None, 'test': ['_  Click on MENU_Actas del Concejo de Quito', '3.984 Click on MES_Agosto button', '0.654 Click on RESUMEN_acta_077', '9.094 Click on MENU_Actas del Concejo de Quito', '1.031 Click on MES_Enero button', '1.427 Click on RESUMEN_acta_046', '172.806 Click on MENU_Actas del Concejo de Quito', '4857.523 Click on MENU_Actas del Concejo de Quito', '2.562 Click on MES_Agosto button', '78.294 Click on MES_Agosto button', '2.15 Click on MES_Enero button', '3.818 Click on RESUMEN_acta_045', '64620.725 Click on MENU_Actas del Concejo de Quito', '3.927 Click on MENU_Actas del Concejo de Quito', '9.071 Click on MES_Enero button', '11.324 Click on RESUMEN_acta_045', '2416.627 Click on MES_Enero button', '1.433 Click on RESUMEN_acta_045', '127.013 Click on MENU_Actas del Concejo de Quito', '3.598 Click on MES_Enero button', '0.886 Click on RESUMEN_acta_045', '479.616 Click on MES_Enero button', '2.614 Click on RESUMEN_acta_045', '6.332 Click on MES_Enero button', '0.863 Click on RESUMEN_acta_045', '23.762 Click on MENU_Actas del Concejo de Quito', '1.221 Click on MES_Enero button', '0.616 Click on RESUMEN_acta_045', '12.435 Click on MES_Enero button', '0.805 Click on RESUMEN_acta_045', '9876.492 Click on MENU_Actas del Concejo de Quito', '3.045 Click on MES_Enero button', '1.117 Click on RESUMEN_acta_045', '10.84 Click on MES_Enero button', '0.779 Click on RESUMEN_acta_045', '16.758 Click on MES_Enero button', '0.606 Click on RESUMEN_acta_045', '849.118 Click on MENU_Actas del Concejo de Quito', '44.074 Click on MENU_Actas del Concejo de Quito', '1.191 Click on MES_Enero button', '2.158 Click on RESUMEN_acta_045', '764.309 Click on MENU_Actas del Concejo de Quito', '2.987 Click on MES_Enero button', '1.487 Click on RESUMEN_acta_046', '1129.612 Click on MES_Enero button', '0.624 Click on RESUMEN_acta_046', '819.923 Click on MENU_Actas del Concejo de Quito', '3.842 Click on MES_Marzo button', '4.751 Click on MES_Marzo button', '0.975 Click on MES_Febrero button', '1.198 Click on MES_Enero button', '1.08 Click on MES_Febrero button', '0.496 Click on MES_Marzo button', '5.783 Click on RESUMEN_acta_051']}\n",
      "{'_id': '2nrtphn925e', 'test': ['_  Click on MENU_Actas del Concejo de Quito', '3.571 Click on MES_Agosto button', '3.108 Click on MES_Julio button', '2.726 Click on MES_Agosto button', '1.62 Click on MES_Mayo button', '1.424 Click on MES_Abril button', '291.747 Click on MES_Agosto button', '1.571 Click on MES_Mayo button', '1.112 Click on MES_Abril button', '1.784 Click on MES_Julio button', '0.998 Click on MES_Junio button']}\n",
      "{'_id': '726mcpi7e5s', 'test': ['_  Click on MES_Agosto button', '1.753 Click on MES_Mayo button', '1.306 Click on MES_Abril button', '5.205 Click on MES_Agosto button', '187.683 Click on MES_Agosto button', '8.096 Click on MES_Agosto button']}\n",
      "{'_id': 'avrc16wjuh', 'test': ['_  Click on LEER_ resúmenes', '24.43 Click on MES_Agosto button', '10.431 Click on RESUMEN_acta_077', '126.26 Click on PDF_acta_077']}\n",
      "{'_id': 'vkzz31h5ng8', 'test': ['_  Click on MENU_Actas del Concejo de Quito', '3.551 Click on MES_Agosto button', '38198.743 Click on MENU_Actas del Concejo de Quito', '3.64 Click on MES_Agosto button', '2.128 Click on MES_Mayo button', '1.824 Click on MES_Agosto button', '1.222 Click on MES_Julio button', '2.926 Click on MES_Enero button', '3.896 Click on MES_Enero button', '11622.216 Click on MENU_Actas del Concejo de Quito', '6.549 Click on MES_Enero button', '7.819 Click on RESUMEN_acta_045', '52328.098 Click on MENU_Actas del Concejo de Quito', '3.135 Click on MES_Enero button', '3.272 Click on RESUMEN_acta_045']}\n",
      "{'_id': 'l114lx9uwxh', 'test': ['_  Click on MES_Agosto button']}\n",
      "{'_id': 'o2l6utzr9y', 'test': ['_  Click on MENU_Actas del Concejo de Quito', '18.296 Click on LEER_ resúmenes', '3.106 Click on MES_Agosto button', '5.174 Click on MES_Julio button', '1.236 Click on MES_Junio button', '1.082 Click on MES_Agosto button', '0.614 Click on RESUMEN_acta_077', '99.879 Click on PDF_acta_077', '2306.716 Click on MES_Julio button', '0.791 Click on RESUMEN_acta_0076', '18.269 Click on MES_Enero button', '1.129 Click on RESUMEN_acta_046']}\n",
      "{'_id': '6n51ts6tudp', 'test': ['_  Click on LEER_ resúmenes', '7.313 Click on MES_Agosto button', '17.452 Click on MES_Junio button', '0.944 Click on MES_Enero button', '1.097 Click on MES_Abril button', '1.274 Click on MES_Mayo button', '0.81 Click on MES_Agosto button', '1.357 Click on MES_Julio button', '1.066 Click on MES_Junio button', '1.798 Click on MES_Agosto button', '7.989 Click on MES_Mayo button', '1.102 Click on MES_Abril button', '1.305 Click on MES_Julio button', '1.402 Click on MES_Enero button', '3.615 Click on MES_Junio button', '1.469 Click on MES_Agosto button', '78.035 Click on MES_Julio button', '151.351 Click on MES_Agosto button', '1.216 Click on MES_Abril button', '1.552 Click on MES_Enero button', '1.44 Click on MES_Junio button', '3.892 Click on MES_Agosto button', '6.743 Click on MENU_Actas del Concejo de Quito', '4.155 Click on MENU_Actas del Concejo de Quito', '30.736 Click on MES_Mayo button', '1.508 Click on MES_Abril button', '3.165 Click on MES_Julio button', '1.619 Click on MES_Junio button', '0.706 Click on MES_Enero button', '75.048 Click on MENU_Actas del Concejo de Quito', '2.625 Click on MES_Agosto button', '74.518 Click on MES_Agosto button', '0.892 Click on MES_Agosto button', '0.773 Click on RESUMEN_acta_077', '335.169 Click on PDF_acta_077', '2983.743 Click on MENU_Actas del Concejo de Quito', '3.427 Click on MES_Agosto button', '6.15 Click on RESUMEN_acta_077', '1381.295 Click on MENU_Actas del Concejo de Quito', '4.299 Click on MES_Agosto button', '197.688 Click on MES_Agosto button', '0.855 Click on MES_Agosto button', '1.169 Click on RESUMEN_acta_077']}\n",
      "{'_id': 'j9le4p72c2g', 'test': ['_  Click on MENU_Actas del Concejo de Quito', '1.5 Click on MES_Agosto button', '0.904 Click on MES_Agosto button']}\n"
     ]
    }
   ],
   "source": [
    "results_userid= list(collection.aggregate(pipeline_for_user_id))\n",
    "\n",
    "for result in results_userid:\n",
    "    print(result)"
   ]
  }
 ],
 "metadata": {
  "kernelspec": {
   "display_name": "venv",
   "language": "python",
   "name": "python3"
  },
  "language_info": {
   "codemirror_mode": {
    "name": "ipython",
    "version": 3
   },
   "file_extension": ".py",
   "mimetype": "text/x-python",
   "name": "python",
   "nbconvert_exporter": "python",
   "pygments_lexer": "ipython3",
   "version": "3.10.4"
  }
 },
 "nbformat": 4,
 "nbformat_minor": 2
}
